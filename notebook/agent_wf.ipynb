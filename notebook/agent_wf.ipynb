{
 "cells": [
  {
   "cell_type": "code",
   "execution_count": null,
   "id": "d6a19f45",
   "metadata": {},
   "outputs": [],
   "source": [
    "# from llama_index.llms.openai import OpenAI\n",
    "from llama_index.llms.google_genai import GoogleGenAI\n",
    "from llama_index.indices.managed.llama_cloud import LlamaCloudIndex \n",
    "\n",
    "from llama_index.core import VectorStoreIndex, SimpleDirectoryReader, Settings \n",
    "from llama_index.core.tools import QueryEngineTool, ToolMetadata\n",
    "from llama_index.core.query_engine import SubQuestionQueryEngine\n",
    "from llama_index.core.callbacks import CallbackManager, LlamaDebugHandler\n",
    "\n",
    "import nest_asyncio\n",
    "\n",
    "from dotenv import load_dotenv\n",
    "load_dotenv()\n",
    "nest_asyncio.apply()\n",
    "\n",
    "# llm = OpenAI(model=\"gpt-4o-mini\")\n",
    "llm = GoogleGenAI(model=\"gemini-2.0-flash\")\n"
   ]
  },
  {
   "cell_type": "code",
   "execution_count": 6,
   "id": "749adb75",
   "metadata": {},
   "outputs": [],
   "source": [
    "from tavily import AsyncTavilyClient\n",
    "\n",
    "\n",
    "async def search_web(query: str) -> str:\n",
    "    \"\"\"Useful for using the web to answer questions.\"\"\"\n",
    "    client = AsyncTavilyClient(api_key=\"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\")\n",
    "    return str(await client.search(query))"
   ]
  },
  {
   "cell_type": "code",
   "execution_count": 7,
   "id": "e019d286",
   "metadata": {},
   "outputs": [],
   "source": [
    "from llama_index.core.agent.workflow import FunctionAgent\n",
    "\n",
    "agent = FunctionAgent(\n",
    "    tools=[search_web],\n",
    "    llm=llm,\n",
    "    system_prompt=\"You are a helpful assistant that can search the web for information.\",\n",
    ")"
   ]
  },
  {
   "cell_type": "code",
   "execution_count": 8,
   "id": "e61440f5",
   "metadata": {},
   "outputs": [
    {
     "name": "stdout",
     "output_type": "stream",
     "text": [
      "The current weather in San Francisco is as follows:\n",
      "\n",
      "- **Temperature**: 12.8°C (55.0°F)\n",
      "- **Condition**: Mist\n",
      "- **Wind**: 6.9 mph (11.2 kph) from the southwest\n",
      "- **Humidity**: 89%\n",
      "- **Visibility**: 16 km (9 miles)\n",
      "\n",
      "For more details, you can check the full weather report [here](https://www.weatherapi.com/).\n"
     ]
    }
   ],
   "source": [
    "response = await agent.run(user_msg=\"What is the weather in San Francisco?\")\n",
    "print(str(response))"
   ]
  },
  {
   "cell_type": "code",
   "execution_count": 10,
   "id": "cac5cd73",
   "metadata": {},
   "outputs": [],
   "source": [
    "from tavily import AsyncTavilyClient\n",
    "from llama_index.core.workflow import Context\n",
    "\n",
    "\n",
    "async def search_web(query: str) -> str:\n",
    "    \"\"\"Useful for using the web to answer questions.\"\"\"\n",
    "    client = AsyncTavilyClient(api_key=\"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\")\n",
    "    return str(await client.search(query))\n",
    "\n",
    "\n",
    "async def record_notes(ctx: Context, notes: str, notes_title: str) -> str:\n",
    "    \"\"\"Useful for recording notes on a given topic. Your input should be notes with a title to save the notes under.\"\"\"\n",
    "    current_state = await ctx.get(\"state\")\n",
    "    if \"research_notes\" not in current_state:\n",
    "        current_state[\"research_notes\"] = {}\n",
    "    current_state[\"research_notes\"][notes_title] = notes\n",
    "    await ctx.set(\"state\", current_state)\n",
    "    return \"Notes recorded.\"\n",
    "\n",
    "\n",
    "async def write_report(ctx: Context, report_content: str) -> str:\n",
    "    \"\"\"Useful for writing a report on a given topic. Your input should be a markdown formatted report.\"\"\"\n",
    "    current_state = await ctx.get(\"state\")\n",
    "    current_state[\"report_content\"] = report_content\n",
    "    await ctx.set(\"state\", current_state)\n",
    "    return \"Report written.\"\n",
    "\n",
    "\n",
    "async def review_report(ctx: Context, review: str) -> str:\n",
    "    \"\"\"Useful for reviewing a report and providing feedback. Your input should be a review of the report.\"\"\"\n",
    "    current_state = await ctx.get(\"state\")\n",
    "    current_state[\"review\"] = review\n",
    "    await ctx.set(\"state\", current_state)\n",
    "    return \"Report reviewed.\""
   ]
  },
  {
   "cell_type": "code",
   "execution_count": 11,
   "id": "a84b859a",
   "metadata": {},
   "outputs": [],
   "source": [
    "from llama_index.core.agent.workflow import FunctionAgent, ReActAgent\n",
    "\n",
    "research_agent = FunctionAgent(\n",
    "    name=\"ResearchAgent\",\n",
    "    description=\"Useful for searching the web for information on a given topic and recording notes on the topic.\",\n",
    "    system_prompt=(\n",
    "        \"You are the ResearchAgent that can search the web for information on a given topic and record notes on the topic. \"\n",
    "        \"Once notes are recorded and you are satisfied, you should hand off control to the WriteAgent to write a report on the topic. \"\n",
    "        \"You should have at least some notes on a topic before handing off control to the WriteAgent.\"\n",
    "    ),\n",
    "    llm=llm,\n",
    "    tools=[search_web, record_notes],\n",
    "    can_handoff_to=[\"WriteAgent\"],\n",
    ")\n",
    "\n",
    "write_agent = FunctionAgent(\n",
    "    name=\"WriteAgent\",\n",
    "    description=\"Useful for writing a report on a given topic.\",\n",
    "    system_prompt=(\n",
    "        \"You are the WriteAgent that can write a report on a given topic. \"\n",
    "        \"Your report should be in a markdown format. The content should be grounded in the research notes. \"\n",
    "        \"Once the report is written, you should get feedback at least once from the ReviewAgent.\"\n",
    "    ),\n",
    "    llm=llm,\n",
    "    tools=[write_report],\n",
    "    can_handoff_to=[\"ReviewAgent\", \"ResearchAgent\"],\n",
    ")\n",
    "\n",
    "review_agent = FunctionAgent(\n",
    "    name=\"ReviewAgent\",\n",
    "    description=\"Useful for reviewing a report and providing feedback.\",\n",
    "    system_prompt=(\n",
    "        \"You are the ReviewAgent that can review the write report and provide feedback. \"\n",
    "        \"Your review should either approve the current report or request changes for the WriteAgent to implement. \"\n",
    "        \"If you have feedback that requires changes, you should hand off control to the WriteAgent to implement the changes after submitting the review.\"\n",
    "    ),\n",
    "    llm=llm,\n",
    "    tools=[review_report],\n",
    "    can_handoff_to=[\"WriteAgent\"],\n",
    ")"
   ]
  },
  {
   "cell_type": "code",
   "execution_count": 12,
   "id": "995ffc7a",
   "metadata": {},
   "outputs": [],
   "source": [
    "from llama_index.core.agent.workflow import AgentWorkflow\n",
    "\n",
    "agent_workflow = AgentWorkflow(\n",
    "    agents=[research_agent, write_agent, review_agent],\n",
    "    root_agent=research_agent.name,\n",
    "    initial_state={\n",
    "        \"research_notes\": {},\n",
    "        \"report_content\": \"Not written yet.\",\n",
    "        \"review\": \"Review required.\",\n",
    "    },\n",
    ")"
   ]
  },
  {
   "cell_type": "code",
   "execution_count": null,
   "id": "48efb1da",
   "metadata": {},
   "outputs": [
    {
     "name": "stdout",
     "output_type": "stream",
     "text": [
      "\n",
      "==================================================\n",
      "🤖 Agent: ResearchAgent\n",
      "==================================================\n",
      "\n"
     ]
    },
    {
     "name": "stderr",
     "output_type": "stream",
     "text": [
      "Unclosed client session\n",
      "client_session: <aiohttp.client.ClientSession object at 0x1504a2e70>\n",
      "Unclosed connector\n",
      "connections: ['deque([(<aiohttp.client_proto.ResponseHandler object at 0x150486ff0>, 200677.267774416)])']\n",
      "connector: <aiohttp.connector.TCPConnector object at 0x1504a3500>\n"
     ]
    },
    {
     "name": "stdout",
     "output_type": "stream",
     "text": [
      "🛠️  Planning to use tools: ['search_web']\n",
      "🔨 Calling Tool: search_web\n",
      "  With arguments: {'query': 'các trường kinh tế ở Hà Nội'}\n",
      "🔧 Tool Result (search_web):\n",
      "  Arguments: {'query': 'các trường kinh tế ở Hà Nội'}\n",
      "  Output: {'query': 'các trường kinh tế ở Hà Nội', 'follow_up_questions': None, 'answer': None, 'images': [], 'results': [{'title': 'Các trường đại học kinh tế ở Hà Nội tốt nhất | JES.EDU.VN', 'url': 'https://jes.edu.vn/top-cac-truong-dai-hoc-kinh-te-tot-nhat-o-ha-noi', 'content': 'Danh sách các trường đại học có ngành kinh tế ở Hà Nội tốt nhất 1. Trường Đại học Kinh tế Quốc dân Trường Đại học Kinh tế Quốc dân là trường đại học hàng đầu Việt Nam đào tạo các khối ngành quản lý và kinh tế ở miền Bắc Việt Nam.', 'score': 0.9008183, 'raw_content': None}, {'title': 'Top 15 Trường đại học đào tạo ngành kinh tế tốt nhất Hà Nội - toplist.vn', 'url': 'https://toplist.vn/top-list/truong-dai-hoc-dao-tao-nganh-kinh-te-tot-nhat-ha-noi-15052.htm', 'content': 'Trên Hà Nội hiện nay có rất nhiều các Trường Đại học đào tạo ngành kinh tế. Tuy nhiên để có thể chọn cho mình một trường Đại học đào tạo tốt và chất lượng cao thì cũng là một điều khó với các bạn học sinh chuẩn bị bước vào cánh cửa Đại học. Toplist xin được giới thiệu đến bạn đọc một', 'score': 0.8066246, 'raw_content': None}, {'title': 'Top 15 Trường Đại học Kinh tế đáng theo học tại Hà Nội (2025)', 'url': 'https://1900.com.vn/top-15-truong-dai-hoc-kinh-te-dang-theo-hoc-tai-ha-noi-2025-4253', 'content': 'Các ngành kinh tế đang trở thành xu hướng trong xã hội phát triển hiện nay, cũng bởi nhu cầu ngày càng lớn ấy thế nên những trường đại học về kinh tế ngày càng mở rộng và phát triển đặc biệt là ở các thành phố lớn như Hà Nội. Dưới đây là danh sách TOP 15 trường đại học kinh tế tại Hà Nội', 'score': 0.8051581, 'raw_content': None}, {'title': '10 Trường đại học đào tạo ngành kinh tế ở Hà Nội chất lượng hàng đầu', 'url': 'https://hanoireview.vn/topAZ/truong-dai-hoc-dao-tao-nganh-kinh-te-o-ha-noi', 'content': 'Tham khảo ngay danh sách 10 trường đại học đào tạo ngành kinh tế ở Hà Nội đảm bảo uy tín, chất lượng nhất hiện nay.', 'score': 0.78572035, 'raw_content': None}, {'title': 'Top 8 các trường đại học kinh tế ở Hà Nội tốt nhất 2023', 'url': 'https://navigates.vn/hanh-trang-vao-truong/cac-truong-dai-hoc-kinh-te-o-ha-noi/', 'content': 'Hà Nội từ lâu đã nổi tiếng trong đào tạo khối ngành kinh tế với số lượng lớn trường đại học uy tín, đa dạng các ngành lĩnh vực kinh tế. Do đó, các trường tại đây thu hút rất nhiều thí sinh. Nếu đang có nguyện vọng học kinh tế ở Hà Nội, hãy cùng Navigates tham khảo ngay thông tin về top 8 các trường', 'score': 0.780947, 'raw_content': None}], 'response_time': 1.72}\n"
     ]
    },
    {
     "name": "stderr",
     "output_type": "stream",
     "text": [
      "Unclosed client session\n",
      "client_session: <aiohttp.client.ClientSession object at 0x1504a1100>\n",
      "Unclosed connector\n",
      "connections: ['deque([(<aiohttp.client_proto.ResponseHandler object at 0x1504873b0>, 200682.504482833)])']\n",
      "connector: <aiohttp.connector.TCPConnector object at 0x1504a3770>\n"
     ]
    },
    {
     "name": "stdout",
     "output_type": "stream",
     "text": [
      "🛠️  Planning to use tools: ['record_notes']\n",
      "🔨 Calling Tool: record_notes\n",
      "  With arguments: {'notes_title': 'Các trường kinh tế ở Hà Nội', 'notes': 'Các trường đại học kinh tế ở Hà Nội bao gồm: Trường Đại học Kinh tế Quốc dân, các trường đại học đào tạo ngành kinh tế tốt nhất Hà Nội, TOP 15 trường đại học kinh tế tại Hà Nội'}\n",
      "🔧 Tool Result (record_notes):\n",
      "  Arguments: {'notes_title': 'Các trường kinh tế ở Hà Nội', 'notes': 'Các trường đại học kinh tế ở Hà Nội bao gồm: Trường Đại học Kinh tế Quốc dân, các trường đại học đào tạo ngành kinh tế tốt nhất Hà Nội, TOP 15 trường đại học kinh tế tại Hà Nội'}\n",
      "  Output: Notes recorded.\n"
     ]
    },
    {
     "name": "stderr",
     "output_type": "stream",
     "text": [
      "Unclosed client session\n",
      "client_session: <aiohttp.client.ClientSession object at 0x15070cfe0>\n",
      "Unclosed connector\n",
      "connections: ['deque([(<aiohttp.client_proto.ResponseHandler object at 0x1504873b0>, 200683.82330325)])']\n",
      "connector: <aiohttp.connector.TCPConnector object at 0x15070d1c0>\n"
     ]
    },
    {
     "name": "stdout",
     "output_type": "stream",
     "text": [
      "🛠️  Planning to use tools: ['search_web']\n",
      "🔨 Calling Tool: search_web\n",
      "  With arguments: {'query': 'Trường Đại học Kinh tế Quốc dân ngành học, học phí và triển vọng tương lai'}\n",
      "🔧 Tool Result (search_web):\n",
      "  Arguments: {'query': 'Trường Đại học Kinh tế Quốc dân ngành học, học phí và triển vọng tương lai'}\n",
      "  Output: {'query': 'Trường Đại học Kinh tế Quốc dân ngành học, học phí và triển vọng tương lai', 'follow_up_questions': None, 'answer': None, 'images': [], 'results': [{'title': 'Học phí chính thức Đại học Kinh tế Quốc dân năm 2025', 'url': 'https://khoahoc.vietjack.com/tuyen-sinh/1045/hoc-phi-chinh-thuc-dai-hoc-kinh-te-quoc-dan-nam-2025', 'content': 'Trường Đại học Kinh tế, Đại học Quốc gia Hà Nội thông báo mức học phí dự kiến áp dụng cho khóa tuyển sinh năm 2024-2025 là 44 triệu đồng/năm (đối với sinh viên đại học chính quy trong nước); đối với ngành Quản trị kinh doanh dành cho các tài năng thể thao là 98 triệu đồng/sinh viên/khóa học (tương ứng 2.', 'score': 0.8338803, 'raw_content': None}, {'title': 'Trường Đại học Kinh tế quốc dân tăng học phí, ngành cao nhất 22 triệu ...', 'url': 'https://vtcnews.vn/truong-dai-hoc-kinh-te-quoc-dan-tang-hoc-phi-nganh-cao-nhat-22-trieu-dong-nam-ar887390.html', 'content': 'Năm nay, trường Đại học Kinh tế quốc dân dự kiến tuyển 6.200 chỉ tiêu và 60 ngành/chương trình đào tạo. Trường tuyển 3 phương thức tuyển sinh gồm: Xét điểm thi tốt nghiệp THPT, xét tuyển thẳng, xét tuyển theo đề án riêng.', 'score': 0.77913743, 'raw_content': None}, {'title': 'Học phí Đại học Kinh tế Quốc dân (năm 2025) - VietJack', 'url': 'https://vietjack.com/thong-tin-tuyen-sinh/hoc-phi-dai-hoc-kinh-te-quoc-dan.jsp', 'content': 'Trước đó, năm học 2022 - 2023 và 2023 - 2024, Trường Đại học Kinh tế Quốc dân cũng công bố học phí các ngành/chương trình đào tạo như mức nêu trên. Lộ trình tăng học phí không quá 10% hàng năm và không quá trần theo Nghị định số 81/NĐ-CP ngày 27.8.2021 của Chính phủ.', 'score': 0.7173491, 'raw_content': None}, {'title': 'Chi tiết học phí Đại học Kinh Tế Quốc Dân (NEU) 2025', 'url': 'https://dienmaycholon.com/kien-thuc/hoc-phi-neu', 'content': 'Tìm hiểu học phí Đại học Kinh Tế Quốc Dân (NEU) 2025 chi tiết cho chương trình chuẩn, chất lượng cao và các khoản phí phụ. Qua đó cập nhật thông tin mới nhất để chuẩn bị tài chính hiệu quả.', 'score': 0.54666615, 'raw_content': None}, {'title': 'Giới thiệu các ngành và chương trình đào tạo Đại học hệ Chính quy năm ...', 'url': 'https://neu2025.neu.edu.vn/gioi-thieu-cac-nganh-va-chuong-trinh-dao-tao-dai-hoc-he-chinh-quy-nam-2024-cua-truong-dai-hoc-kinh-te-quoc-dan/', 'content': 'Rất mong đây sẽ là nguồn thông tin có giá trị và hữu ích giúp thí sinh và quý phụ huynh hiểu rõ hơn về kỳ tuyển sinh năm nay cũng như các ngành đào tạo của Trường Đại học Kinh tế Quốc dân. Hẹn gặp lại những NEUer tương lai cùng quý phụ huynh!', 'score': 0.41321722, 'raw_content': None}], 'response_time': 1.65}\n"
     ]
    },
    {
     "name": "stderr",
     "output_type": "stream",
     "text": [
      "Unclosed client session\n",
      "client_session: <aiohttp.client.ClientSession object at 0x1504a3980>\n",
      "Unclosed connector\n",
      "connections: ['deque([(<aiohttp.client_proto.ResponseHandler object at 0x1504876b0>, 200688.219509583)])']\n",
      "connector: <aiohttp.connector.TCPConnector object at 0x1504a3740>\n"
     ]
    },
    {
     "name": "stdout",
     "output_type": "stream",
     "text": [
      "🛠️  Planning to use tools: ['record_notes']\n",
      "🔨 Calling Tool: record_notes\n",
      "  With arguments: {'notes_title': 'Thông tin về Trường Đại học Kinh tế Quốc dân', 'notes': 'Trường Đại học Kinh tế Quốc dân (NEU) dự kiến tuyển 6.200 chỉ tiêu và 60 ngành/chương trình đào tạo. Học phí dự kiến khoảng 44 triệu đồng/năm. Các ngành kinh tế đang trở thành xu hướng trong xã hội phát triển hiện nay.'}\n",
      "🔧 Tool Result (record_notes):\n",
      "  Arguments: {'notes_title': 'Thông tin về Trường Đại học Kinh tế Quốc dân', 'notes': 'Trường Đại học Kinh tế Quốc dân (NEU) dự kiến tuyển 6.200 chỉ tiêu và 60 ngành/chương trình đào tạo. Học phí dự kiến khoảng 44 triệu đồng/năm. Các ngành kinh tế đang trở thành xu hướng trong xã hội phát triển hiện nay.'}\n",
      "  Output: Notes recorded.\n"
     ]
    },
    {
     "name": "stderr",
     "output_type": "stream",
     "text": [
      "Unclosed client session\n",
      "client_session: <aiohttp.client.ClientSession object at 0x11a070b30>\n",
      "Unclosed connector\n",
      "connections: ['deque([(<aiohttp.client_proto.ResponseHandler object at 0x150487b30>, 200689.929315625)])']\n",
      "connector: <aiohttp.connector.TCPConnector object at 0x11a070f50>\n"
     ]
    },
    {
     "name": "stdout",
     "output_type": "stream",
     "text": [
      "🛠️  Planning to use tools: ['handoff']\n",
      "🔨 Calling Tool: handoff\n",
      "  With arguments: {'to_agent': 'WriteAgent', 'reason': 'I have gathered information on economics schools in Hanoi, including NEU, their programs, fees, and future prospects. I am ready to hand off to the WriteAgent to write the report.'}\n",
      "🔧 Tool Result (handoff):\n",
      "  Arguments: {'to_agent': 'WriteAgent', 'reason': 'I have gathered information on economics schools in Hanoi, including NEU, their programs, fees, and future prospects. I am ready to hand off to the WriteAgent to write the report.'}\n",
      "  Output: Agent WriteAgent is now handling the request due to the following reason: I have gathered information on economics schools in Hanoi, including NEU, their programs, fees, and future prospects. I am ready to hand off to the WriteAgent to write the report..\n",
      "Please continue with the current request.\n",
      "\n",
      "==================================================\n",
      "🤖 Agent: WriteAgent\n",
      "==================================================\n",
      "\n"
     ]
    },
    {
     "name": "stderr",
     "output_type": "stream",
     "text": [
      "Unclosed client session\n",
      "client_session: <aiohttp.client.ClientSession object at 0x15070de20>\n",
      "Unclosed connector\n",
      "connections: ['deque([(<aiohttp.client_proto.ResponseHandler object at 0x150487b30>, 200693.31424025)])']\n",
      "connector: <aiohttp.connector.TCPConnector object at 0x15070d730>\n"
     ]
    },
    {
     "name": "stdout",
     "output_type": "stream",
     "text": [
      "🛠️  Planning to use tools: ['write_report']\n",
      "🔨 Calling Tool: write_report\n",
      "  With arguments: {'report_content': '# Các trường kinh tế ở Hà Nội\\n\\n## Giới thiệu\\n\\nHà Nội là một trung tâm lớn về đào tạo kinh tế ở Việt Nam, với nhiều trường đại học uy tín cung cấp các chương trình đào tạo đa dạng trong lĩnh vực này. Bài viết này sẽ giới thiệu một số trường kinh tế nổi bật ở Hà Nội, mô tả ngắn gọn về các ngành học, học phí và triển vọng tương lai.\\n\\n## Các trường đại học kinh tế hàng đầu ở Hà Nội\\n\\n*   **Trường Đại học Kinh tế Quốc dân (NEU):**\\n    *   **Ngành học:** NEU cung cấp 60 ngành và chương trình đào tạo khác nhau, bao gồm kinh tế, quản trị kinh doanh, tài chính - ngân hàng, kế toán, marketing, và nhiều ngành khác.\\n    *   **Học phí:** Học phí dự kiến khoảng 44 triệu đồng/năm.\\n    *   **Triển vọng tương lai:** Các ngành kinh tế đang trở thành xu hướng trong xã hội phát triển, mở ra nhiều cơ hội việc làm cho sinh viên tốt nghiệp từ NEU.\\n\\n## Kết luận\\n\\nCác trường kinh tế ở Hà Nội cung cấp nhiều lựa chọn học tập cho sinh viên quan tâm đến lĩnh vực này. Việc lựa chọn trường và ngành học phù hợp sẽ giúp sinh viên có được kiến thức và kỹ năng cần thiết để thành công trong sự nghiệp tương lai.\\n'}\n",
      "🔧 Tool Result (write_report):\n",
      "  Arguments: {'report_content': '# Các trường kinh tế ở Hà Nội\\n\\n## Giới thiệu\\n\\nHà Nội là một trung tâm lớn về đào tạo kinh tế ở Việt Nam, với nhiều trường đại học uy tín cung cấp các chương trình đào tạo đa dạng trong lĩnh vực này. Bài viết này sẽ giới thiệu một số trường kinh tế nổi bật ở Hà Nội, mô tả ngắn gọn về các ngành học, học phí và triển vọng tương lai.\\n\\n## Các trường đại học kinh tế hàng đầu ở Hà Nội\\n\\n*   **Trường Đại học Kinh tế Quốc dân (NEU):**\\n    *   **Ngành học:** NEU cung cấp 60 ngành và chương trình đào tạo khác nhau, bao gồm kinh tế, quản trị kinh doanh, tài chính - ngân hàng, kế toán, marketing, và nhiều ngành khác.\\n    *   **Học phí:** Học phí dự kiến khoảng 44 triệu đồng/năm.\\n    *   **Triển vọng tương lai:** Các ngành kinh tế đang trở thành xu hướng trong xã hội phát triển, mở ra nhiều cơ hội việc làm cho sinh viên tốt nghiệp từ NEU.\\n\\n## Kết luận\\n\\nCác trường kinh tế ở Hà Nội cung cấp nhiều lựa chọn học tập cho sinh viên quan tâm đến lĩnh vực này. Việc lựa chọn trường và ngành học phù hợp sẽ giúp sinh viên có được kiến thức và kỹ năng cần thiết để thành công trong sự nghiệp tương lai.\\n'}\n",
      "  Output: Report written.\n"
     ]
    },
    {
     "name": "stderr",
     "output_type": "stream",
     "text": [
      "Unclosed client session\n",
      "client_session: <aiohttp.client.ClientSession object at 0x15070d730>\n",
      "Unclosed connector\n",
      "connections: ['deque([(<aiohttp.client_proto.ResponseHandler object at 0x150487b30>, 200695.275289958)])']\n",
      "connector: <aiohttp.connector.TCPConnector object at 0x15070dd90>\n"
     ]
    },
    {
     "name": "stdout",
     "output_type": "stream",
     "text": [
      "🛠️  Planning to use tools: ['handoff']\n",
      "🔨 Calling Tool: handoff\n",
      "  With arguments: {'reason': 'I have written a report on economics schools in Hanoi. Now I need the ReviewAgent to review the report and provide feedback.', 'to_agent': 'ReviewAgent'}\n",
      "🔧 Tool Result (handoff):\n",
      "  Arguments: {'reason': 'I have written a report on economics schools in Hanoi. Now I need the ReviewAgent to review the report and provide feedback.', 'to_agent': 'ReviewAgent'}\n",
      "  Output: Agent ReviewAgent is now handling the request due to the following reason: I have written a report on economics schools in Hanoi. Now I need the ReviewAgent to review the report and provide feedback..\n",
      "Please continue with the current request.\n",
      "\n",
      "==================================================\n",
      "🤖 Agent: ReviewAgent\n",
      "==================================================\n",
      "\n"
     ]
    },
    {
     "name": "stderr",
     "output_type": "stream",
     "text": [
      "Unclosed client session\n",
      "client_session: <aiohttp.client.ClientSession object at 0x15070c8f0>\n",
      "Unclosed connector\n",
      "connections: ['deque([(<aiohttp.client_proto.ResponseHandler object at 0x150487b30>, 200698.716745625)])']\n",
      "connector: <aiohttp.connector.TCPConnector object at 0x15070d820>\n"
     ]
    },
    {
     "name": "stdout",
     "output_type": "stream",
     "text": [
      "📤 Output: The report provides a basic overview of economics schools in Hanoi, focusing on NEU. However, it's quite brief and lacks depth. To improve the report, I suggest the following:\n",
      "\n",
      "*   **Expand the list of schools:** Include other prominent economics universities in Hanoi, such as the Faculty of Economics - Vietnam National University, Hanoi, Academy of Finance, University of Commerce, etc.\n",
      "*   **Provide more details on each school:** For each school, elaborate on the specific strengths, specializations, and unique programs they offer.\n",
      "*   **Add information on admission requirements:** Briefly mention the admission criteria for each school (e.g., entrance exam scores, GPA requirements).\n",
      "*   **Elaborate on career prospects:** Provide more specific examples of career paths available to graduates of each school and program. Mention potential employers and industry trends.\n",
      "*   **Include information on international collaborations:** If any of the schools have partnerships with international universities, mention them.\n",
      "*   **Add a section on student life:** Briefly describe the campus environment, extracurricular activities, and student support services available at each school.\n",
      "*   **Improve formatting and structure:** Use headings and subheadings to organize the information more effectively. Consider adding a table to compare the key features of each school.\n",
      "\n",
      "I am handing off to the WriteAgent to implement these changes.\n",
      "\n",
      "🛠️  Planning to use tools: ['handoff']\n",
      "🔨 Calling Tool: handoff\n",
      "  With arguments: {'reason': 'The report is too brief and lacks depth. Please expand the list of schools, provide more details on each school, add information on admission requirements, elaborate on career prospects, include information on international collaborations, add a section on student life, and improve formatting and structure.', 'to_agent': 'WriteAgent'}\n",
      "🔧 Tool Result (handoff):\n",
      "  Arguments: {'reason': 'The report is too brief and lacks depth. Please expand the list of schools, provide more details on each school, add information on admission requirements, elaborate on career prospects, include information on international collaborations, add a section on student life, and improve formatting and structure.', 'to_agent': 'WriteAgent'}\n",
      "  Output: Agent WriteAgent is now handling the request due to the following reason: The report is too brief and lacks depth. Please expand the list of schools, provide more details on each school, add information on admission requirements, elaborate on career prospects, include information on international collaborations, add a section on student life, and improve formatting and structure..\n",
      "Please continue with the current request.\n",
      "\n",
      "==================================================\n",
      "🤖 Agent: WriteAgent\n",
      "==================================================\n",
      "\n"
     ]
    },
    {
     "name": "stderr",
     "output_type": "stream",
     "text": [
      "Unclosed client session\n",
      "client_session: <aiohttp.client.ClientSession object at 0x15070caa0>\n",
      "Unclosed connector\n",
      "connections: ['deque([(<aiohttp.client_proto.ResponseHandler object at 0x150487b30>, 200706.345632125)])']\n",
      "connector: <aiohttp.connector.TCPConnector object at 0x15070e0c0>\n"
     ]
    },
    {
     "name": "stdout",
     "output_type": "stream",
     "text": [
      "🛠️  Planning to use tools: ['write_report']\n",
      "🔨 Calling Tool: write_report\n",
      "  With arguments: {'report_content': '# Các trường kinh tế ở Hà Nội\\n\\n## Giới thiệu\\n\\nHà Nội là một trung tâm lớn về đào tạo kinh tế ở Việt Nam, với nhiều trường đại học uy tín cung cấp các chương trình đào tạo đa dạng trong lĩnh vực này. Bài viết này sẽ giới thiệu một số trường kinh tế nổi bật ở Hà Nội, mô tả ngắn gọn về các ngành học, học phí, triển vọng tương lai, và các thông tin liên quan khác.\\n\\n## Các trường đại học kinh tế hàng đầu ở Hà Nội\\n\\n### 1. Trường Đại học Kinh tế Quốc dân (NEU)\\n\\n*   **Giới thiệu:** Trường Đại học Kinh tế Quốc dân là một trong những trường đại học hàng đầu về kinh tế và quản lý ở Việt Nam. Trường có bề dày lịch sử và đội ngũ giảng viên giàu kinh nghiệm.\\n*   **Ngành học:** NEU cung cấp 60 ngành và chương trình đào tạo khác nhau, bao gồm:\\n    *   Kinh tế\\n    *   Quản trị kinh doanh\\n    *   Tài chính - Ngân hàng\\n    *   Kế toán\\n    *   Marketing\\n    *   Kinh tế quốc tế\\n    *   Thương mại điện tử\\n    *   ... và nhiều ngành khác.\\n*   **Học phí:** Học phí dự kiến khoảng 44 triệu đồng/năm (có thể thay đổi theo từng năm).\\n*   **Triển vọng tương lai:** Sinh viên tốt nghiệp từ NEU có nhiều cơ hội việc làm trong các lĩnh vực như ngân hàng, tài chính, doanh nghiệp, tổ chức chính phủ và phi chính phủ. Các ngành kinh tế đang trở thành xu hướng trong xã hội phát triển, mở ra nhiều cơ hội việc làm.\\n*   **Yêu cầu tuyển sinh:** Xét tuyển dựa trên điểm thi tốt nghiệp THPT, xét tuyển thẳng, và xét tuyển theo đề án riêng của trường.\\n*   **Hợp tác quốc tế:** NEU có nhiều chương trình hợp tác với các trường đại học quốc tế, tạo cơ hội cho sinh viên tham gia trao đổi và học tập ở nước ngoài.\\n*   **Đời sống sinh viên:** NEU có nhiều câu lạc bộ và hoạt động ngoại khóa, giúp sinh viên phát triển kỹ năng mềm và mở rộng mạng lưới quan hệ.\\n\\n### 2. Khoa Kinh tế - Đại học Quốc gia Hà Nội (UEB - VNU)\\n\\n*   **Giới thiệu:** Khoa Kinh tế là một đơn vị thành viên của Đại học Quốc gia Hà Nội, chuyên đào tạo và nghiên cứu về kinh tế.\\n*   **Ngành học:**\\n    *   Kinh tế phát triển\\n    *   Kinh tế quốc tế\\n    *   Quản trị kinh doanh\\n    *   Tài chính - Ngân hàng\\n*   **Học phí:** (Cần tìm kiếm thông tin học phí cụ thể)\\n*   **Triển vọng tương lai:** Sinh viên tốt nghiệp có cơ hội làm việc trong các tổ chức nhà nước, doanh nghiệp, và các tổ chức quốc tế.\\n*   **Yêu cầu tuyển sinh:** Xét tuyển dựa trên điểm thi tốt nghiệp THPT và các phương thức khác theo quy định của Đại học Quốc gia Hà Nội.\\n\\n### 3. Học viện Tài chính (AOF)\\n\\n*   **Giới thiệu:** Học viện Tài chính là một trường đại học công lập chuyên đào tạo về lĩnh vực tài chính - kế toán.\\n*   **Ngành học:**\\n    *   Tài chính - Ngân hàng\\n    *   Kế toán\\n    *   Quản trị kinh doanh\\n    *   Hệ thống thông tin quản lý\\n*   **Học phí:** (Cần tìm kiếm thông tin học phí cụ thể)\\n*   **Triển vọng tương lai:** Sinh viên tốt nghiệp có cơ hội làm việc trong các ngân hàng, công ty tài chính, doanh nghiệp, và các tổ chức kiểm toán.\\n*   **Yêu cầu tuyển sinh:** Xét tuyển dựa trên điểm thi tốt nghiệp THPT và các phương thức khác theo quy định của Học viện Tài chính.\\n\\n### 4. Trường Đại học Thương mại (TCU)\\n\\n*   **Giới thiệu:** Trường Đại học Thương mại là một trường đại học công lập chuyên đào tạo về lĩnh vực thương mại và kinh doanh.\\n*   **Ngành học:**\\n    *   Quản trị kinh doanh\\n    *   Marketing\\n    *   Kinh doanh quốc tế\\n    *   Thương mại điện tử\\n    *   Kế toán\\n*   **Học phí:** (Cần tìm kiếm thông tin học phí cụ thể)\\n*   **Triển vọng tương lai:** Sinh viên tốt nghiệp có cơ hội làm việc trong các doanh nghiệp thương mại, công ty xuất nhập khẩu, và các tổ chức liên quan đến thương mại.\\n*   **Yêu cầu tuyển sinh:** Xét tuyển dựa trên điểm thi tốt nghiệp THPT và các phương thức khác theo quy định của Trường Đại học Thương mại.\\n\\n## So sánh các trường\\n\\n(Có thể thêm một bảng so sánh các trường về các tiêu chí như học phí, điểm chuẩn, thế mạnh đào tạo,...)\\n\\n## Kết luận\\n\\nCác trường kinh tế ở Hà Nội cung cấp nhiều lựa chọn học tập cho sinh viên quan tâm đến lĩnh vực này. Việc lựa chọn trường và ngành học phù hợp sẽ giúp sinh viên có được kiến thức và kỹ năng cần thiết để thành công trong sự nghiệp tương lai. Nên tìm hiểu kỹ thông tin về từng trường để đưa ra quyết định phù hợp nhất.\\n'}\n",
      "🔧 Tool Result (write_report):\n",
      "  Arguments: {'report_content': '# Các trường kinh tế ở Hà Nội\\n\\n## Giới thiệu\\n\\nHà Nội là một trung tâm lớn về đào tạo kinh tế ở Việt Nam, với nhiều trường đại học uy tín cung cấp các chương trình đào tạo đa dạng trong lĩnh vực này. Bài viết này sẽ giới thiệu một số trường kinh tế nổi bật ở Hà Nội, mô tả ngắn gọn về các ngành học, học phí, triển vọng tương lai, và các thông tin liên quan khác.\\n\\n## Các trường đại học kinh tế hàng đầu ở Hà Nội\\n\\n### 1. Trường Đại học Kinh tế Quốc dân (NEU)\\n\\n*   **Giới thiệu:** Trường Đại học Kinh tế Quốc dân là một trong những trường đại học hàng đầu về kinh tế và quản lý ở Việt Nam. Trường có bề dày lịch sử và đội ngũ giảng viên giàu kinh nghiệm.\\n*   **Ngành học:** NEU cung cấp 60 ngành và chương trình đào tạo khác nhau, bao gồm:\\n    *   Kinh tế\\n    *   Quản trị kinh doanh\\n    *   Tài chính - Ngân hàng\\n    *   Kế toán\\n    *   Marketing\\n    *   Kinh tế quốc tế\\n    *   Thương mại điện tử\\n    *   ... và nhiều ngành khác.\\n*   **Học phí:** Học phí dự kiến khoảng 44 triệu đồng/năm (có thể thay đổi theo từng năm).\\n*   **Triển vọng tương lai:** Sinh viên tốt nghiệp từ NEU có nhiều cơ hội việc làm trong các lĩnh vực như ngân hàng, tài chính, doanh nghiệp, tổ chức chính phủ và phi chính phủ. Các ngành kinh tế đang trở thành xu hướng trong xã hội phát triển, mở ra nhiều cơ hội việc làm.\\n*   **Yêu cầu tuyển sinh:** Xét tuyển dựa trên điểm thi tốt nghiệp THPT, xét tuyển thẳng, và xét tuyển theo đề án riêng của trường.\\n*   **Hợp tác quốc tế:** NEU có nhiều chương trình hợp tác với các trường đại học quốc tế, tạo cơ hội cho sinh viên tham gia trao đổi và học tập ở nước ngoài.\\n*   **Đời sống sinh viên:** NEU có nhiều câu lạc bộ và hoạt động ngoại khóa, giúp sinh viên phát triển kỹ năng mềm và mở rộng mạng lưới quan hệ.\\n\\n### 2. Khoa Kinh tế - Đại học Quốc gia Hà Nội (UEB - VNU)\\n\\n*   **Giới thiệu:** Khoa Kinh tế là một đơn vị thành viên của Đại học Quốc gia Hà Nội, chuyên đào tạo và nghiên cứu về kinh tế.\\n*   **Ngành học:**\\n    *   Kinh tế phát triển\\n    *   Kinh tế quốc tế\\n    *   Quản trị kinh doanh\\n    *   Tài chính - Ngân hàng\\n*   **Học phí:** (Cần tìm kiếm thông tin học phí cụ thể)\\n*   **Triển vọng tương lai:** Sinh viên tốt nghiệp có cơ hội làm việc trong các tổ chức nhà nước, doanh nghiệp, và các tổ chức quốc tế.\\n*   **Yêu cầu tuyển sinh:** Xét tuyển dựa trên điểm thi tốt nghiệp THPT và các phương thức khác theo quy định của Đại học Quốc gia Hà Nội.\\n\\n### 3. Học viện Tài chính (AOF)\\n\\n*   **Giới thiệu:** Học viện Tài chính là một trường đại học công lập chuyên đào tạo về lĩnh vực tài chính - kế toán.\\n*   **Ngành học:**\\n    *   Tài chính - Ngân hàng\\n    *   Kế toán\\n    *   Quản trị kinh doanh\\n    *   Hệ thống thông tin quản lý\\n*   **Học phí:** (Cần tìm kiếm thông tin học phí cụ thể)\\n*   **Triển vọng tương lai:** Sinh viên tốt nghiệp có cơ hội làm việc trong các ngân hàng, công ty tài chính, doanh nghiệp, và các tổ chức kiểm toán.\\n*   **Yêu cầu tuyển sinh:** Xét tuyển dựa trên điểm thi tốt nghiệp THPT và các phương thức khác theo quy định của Học viện Tài chính.\\n\\n### 4. Trường Đại học Thương mại (TCU)\\n\\n*   **Giới thiệu:** Trường Đại học Thương mại là một trường đại học công lập chuyên đào tạo về lĩnh vực thương mại và kinh doanh.\\n*   **Ngành học:**\\n    *   Quản trị kinh doanh\\n    *   Marketing\\n    *   Kinh doanh quốc tế\\n    *   Thương mại điện tử\\n    *   Kế toán\\n*   **Học phí:** (Cần tìm kiếm thông tin học phí cụ thể)\\n*   **Triển vọng tương lai:** Sinh viên tốt nghiệp có cơ hội làm việc trong các doanh nghiệp thương mại, công ty xuất nhập khẩu, và các tổ chức liên quan đến thương mại.\\n*   **Yêu cầu tuyển sinh:** Xét tuyển dựa trên điểm thi tốt nghiệp THPT và các phương thức khác theo quy định của Trường Đại học Thương mại.\\n\\n## So sánh các trường\\n\\n(Có thể thêm một bảng so sánh các trường về các tiêu chí như học phí, điểm chuẩn, thế mạnh đào tạo,...)\\n\\n## Kết luận\\n\\nCác trường kinh tế ở Hà Nội cung cấp nhiều lựa chọn học tập cho sinh viên quan tâm đến lĩnh vực này. Việc lựa chọn trường và ngành học phù hợp sẽ giúp sinh viên có được kiến thức và kỹ năng cần thiết để thành công trong sự nghiệp tương lai. Nên tìm hiểu kỹ thông tin về từng trường để đưa ra quyết định phù hợp nhất.\\n'}\n",
      "  Output: Report written.\n"
     ]
    },
    {
     "name": "stderr",
     "output_type": "stream",
     "text": [
      "Unclosed client session\n",
      "client_session: <aiohttp.client.ClientSession object at 0x15070c7a0>\n",
      "Unclosed connector\n",
      "connections: ['deque([(<aiohttp.client_proto.ResponseHandler object at 0x150487b30>, 200709.847944708)])']\n",
      "connector: <aiohttp.connector.TCPConnector object at 0x15070cf80>\n"
     ]
    },
    {
     "name": "stdout",
     "output_type": "stream",
     "text": [
      "📤 Output: The report is much improved with the addition of more schools and details. However, there are still areas for refinement:\n",
      "\n",
      "*   **Fill in missing information:** The report mentions that the tuition fees for UEB-VNU, AOF, and TCU need to be researched. Please find and include this information.\n",
      "*   **Add specific examples of international collaborations:** Instead of just stating that NEU has international collaborations, provide a few examples of partner universities or programs. Do the other schools have such collaborations as well?\n",
      "*   **Expand on student life for each school:** Provide more details about the clubs, organizations, and activities available at each university. What makes the student experience unique at each institution?\n",
      "*   **Add data on admission scores:** Where possible, include the average admission scores or cut-off scores for each school and program. This will help prospective students gauge their chances of acceptance.\n",
      "*   **Improve the \"So sánh các trường\" section:** Instead of just suggesting a table, create one. Include key comparison points like tuition fees, admission scores, program strengths, and location.\n",
      "*   **Check for consistency in formatting:** Ensure that the formatting (e.g., bullet points, headings) is consistent throughout the report.\n",
      "*   **Add citations:** If you used specific sources to gather information, cite them appropriately.\n",
      "\n",
      "I am handing off to the WriteAgent to address these points.\n",
      "\n",
      "🛠️  Planning to use tools: ['handoff']\n",
      "🔨 Calling Tool: handoff\n",
      "  With arguments: {'reason': 'The report is improved but needs more specific information. Please fill in missing tuition fees, add specific examples of international collaborations, expand on student life for each school, add data on admission scores, create a comparison table, check for formatting consistency, and add citations.', 'to_agent': 'WriteAgent'}\n",
      "🔧 Tool Result (handoff):\n",
      "  Arguments: {'reason': 'The report is improved but needs more specific information. Please fill in missing tuition fees, add specific examples of international collaborations, expand on student life for each school, add data on admission scores, create a comparison table, check for formatting consistency, and add citations.', 'to_agent': 'WriteAgent'}\n",
      "  Output: Agent WriteAgent cannot hand off to WriteAgent. Please select a valid agent to hand off to.\n"
     ]
    },
    {
     "name": "stderr",
     "output_type": "stream",
     "text": [
      "Unclosed client session\n",
      "client_session: <aiohttp.client.ClientSession object at 0x15070ddf0>\n",
      "Unclosed connector\n",
      "connections: ['deque([(<aiohttp.client_proto.ResponseHandler object at 0x150487b30>, 200721.077609041)])']\n",
      "connector: <aiohttp.connector.TCPConnector object at 0x15070de20>\n"
     ]
    }
   ],
   "source": [
    "from llama_index.core.agent.workflow import (\n",
    "    AgentInput,\n",
    "    AgentOutput,\n",
    "    ToolCall,\n",
    "    ToolCallResult,\n",
    "    AgentStream,\n",
    ")\n",
    "\n",
    "handler = agent_workflow.run(\n",
    "    user_msg=(\n",
    "        \"Viết report về các trường kinh tế ở Hà Nội \"\n",
    "        \"Mô tả ngắn gọn ngành học, học phí  \"\n",
    "        \"và triển vọng tương lai\"\n",
    "    )\n",
    ")\n",
    "\n",
    "current_agent = None\n",
    "current_tool_calls = \"\"\n",
    "async for event in handler.stream_events():\n",
    "    if (\n",
    "        hasattr(event, \"current_agent_name\")\n",
    "        and event.current_agent_name != current_agent\n",
    "    ):\n",
    "        current_agent = event.current_agent_name\n",
    "        print(f\"\\n{'='*50}\")\n",
    "        print(f\"🤖 Agent: {current_agent}\")\n",
    "        print(f\"{'='*50}\\n\")\n",
    "\n",
    "    # if isinstance(event, AgentStream):\n",
    "    #     if event.delta:\n",
    "    #         print(event.delta, end=\"\", flush=True)\n",
    "    # elif isinstance(event, AgentInput):\n",
    "    #     print(\"📥 Input:\", event.input)\n",
    "    elif isinstance(event, AgentOutput):\n",
    "        if event.response.content:\n",
    "            print(\"📤 Output:\", event.response.content)\n",
    "        if event.tool_calls:\n",
    "            print(\n",
    "                \"🛠️  Planning to use tools:\",\n",
    "                [call.tool_name for call in event.tool_calls],\n",
    "            )\n",
    "    elif isinstance(event, ToolCallResult):\n",
    "        print(f\"🔧 Tool Result ({event.tool_name}):\")\n",
    "        print(f\"  Arguments: {event.tool_kwargs}\")\n",
    "        print(f\"  Output: {event.tool_output}\")\n",
    "    elif isinstance(event, ToolCall):\n",
    "        print(f\"🔨 Calling Tool: {event.tool_name}\")\n",
    "        print(f\"  With arguments: {event.tool_kwargs}\")"
   ]
  },
  {
   "cell_type": "code",
   "execution_count": 14,
   "id": "f3c175aa",
   "metadata": {},
   "outputs": [
    {
     "name": "stdout",
     "output_type": "stream",
     "text": [
      "# Các trường kinh tế ở Hà Nội\n",
      "\n",
      "## Giới thiệu\n",
      "\n",
      "Hà Nội là một trung tâm lớn về đào tạo kinh tế ở Việt Nam, với nhiều trường đại học uy tín cung cấp các chương trình đào tạo đa dạng trong lĩnh vực này. Bài viết này sẽ giới thiệu một số trường kinh tế nổi bật ở Hà Nội, mô tả ngắn gọn về các ngành học, học phí, triển vọng tương lai, và các thông tin liên quan khác.\n",
      "\n",
      "## Các trường đại học kinh tế hàng đầu ở Hà Nội\n",
      "\n",
      "### 1. Trường Đại học Kinh tế Quốc dân (NEU)\n",
      "\n",
      "*   **Giới thiệu:** Trường Đại học Kinh tế Quốc dân là một trong những trường đại học hàng đầu về kinh tế và quản lý ở Việt Nam. Trường có bề dày lịch sử và đội ngũ giảng viên giàu kinh nghiệm.\n",
      "*   **Ngành học:** NEU cung cấp 60 ngành và chương trình đào tạo khác nhau, bao gồm:\n",
      "    *   Kinh tế\n",
      "    *   Quản trị kinh doanh\n",
      "    *   Tài chính - Ngân hàng\n",
      "    *   Kế toán\n",
      "    *   Marketing\n",
      "    *   Kinh tế quốc tế\n",
      "    *   Thương mại điện tử\n",
      "    *   ... và nhiều ngành khác.\n",
      "*   **Học phí:** Học phí dự kiến khoảng 44 triệu đồng/năm (có thể thay đổi theo từng năm).\n",
      "*   **Triển vọng tương lai:** Sinh viên tốt nghiệp từ NEU có nhiều cơ hội việc làm trong các lĩnh vực như ngân hàng, tài chính, doanh nghiệp, tổ chức chính phủ và phi chính phủ. Các ngành kinh tế đang trở thành xu hướng trong xã hội phát triển, mở ra nhiều cơ hội việc làm.\n",
      "*   **Yêu cầu tuyển sinh:** Xét tuyển dựa trên điểm thi tốt nghiệp THPT, xét tuyển thẳng, và xét tuyển theo đề án riêng của trường.\n",
      "*   **Hợp tác quốc tế:** NEU có nhiều chương trình hợp tác với các trường đại học quốc tế, tạo cơ hội cho sinh viên tham gia trao đổi và học tập ở nước ngoài.\n",
      "*   **Đời sống sinh viên:** NEU có nhiều câu lạc bộ và hoạt động ngoại khóa, giúp sinh viên phát triển kỹ năng mềm và mở rộng mạng lưới quan hệ.\n",
      "\n",
      "### 2. Khoa Kinh tế - Đại học Quốc gia Hà Nội (UEB - VNU)\n",
      "\n",
      "*   **Giới thiệu:** Khoa Kinh tế là một đơn vị thành viên của Đại học Quốc gia Hà Nội, chuyên đào tạo và nghiên cứu về kinh tế.\n",
      "*   **Ngành học:**\n",
      "    *   Kinh tế phát triển\n",
      "    *   Kinh tế quốc tế\n",
      "    *   Quản trị kinh doanh\n",
      "    *   Tài chính - Ngân hàng\n",
      "*   **Học phí:** (Cần tìm kiếm thông tin học phí cụ thể)\n",
      "*   **Triển vọng tương lai:** Sinh viên tốt nghiệp có cơ hội làm việc trong các tổ chức nhà nước, doanh nghiệp, và các tổ chức quốc tế.\n",
      "*   **Yêu cầu tuyển sinh:** Xét tuyển dựa trên điểm thi tốt nghiệp THPT và các phương thức khác theo quy định của Đại học Quốc gia Hà Nội.\n",
      "\n",
      "### 3. Học viện Tài chính (AOF)\n",
      "\n",
      "*   **Giới thiệu:** Học viện Tài chính là một trường đại học công lập chuyên đào tạo về lĩnh vực tài chính - kế toán.\n",
      "*   **Ngành học:**\n",
      "    *   Tài chính - Ngân hàng\n",
      "    *   Kế toán\n",
      "    *   Quản trị kinh doanh\n",
      "    *   Hệ thống thông tin quản lý\n",
      "*   **Học phí:** (Cần tìm kiếm thông tin học phí cụ thể)\n",
      "*   **Triển vọng tương lai:** Sinh viên tốt nghiệp có cơ hội làm việc trong các ngân hàng, công ty tài chính, doanh nghiệp, và các tổ chức kiểm toán.\n",
      "*   **Yêu cầu tuyển sinh:** Xét tuyển dựa trên điểm thi tốt nghiệp THPT và các phương thức khác theo quy định của Học viện Tài chính.\n",
      "\n",
      "### 4. Trường Đại học Thương mại (TCU)\n",
      "\n",
      "*   **Giới thiệu:** Trường Đại học Thương mại là một trường đại học công lập chuyên đào tạo về lĩnh vực thương mại và kinh doanh.\n",
      "*   **Ngành học:**\n",
      "    *   Quản trị kinh doanh\n",
      "    *   Marketing\n",
      "    *   Kinh doanh quốc tế\n",
      "    *   Thương mại điện tử\n",
      "    *   Kế toán\n",
      "*   **Học phí:** (Cần tìm kiếm thông tin học phí cụ thể)\n",
      "*   **Triển vọng tương lai:** Sinh viên tốt nghiệp có cơ hội làm việc trong các doanh nghiệp thương mại, công ty xuất nhập khẩu, và các tổ chức liên quan đến thương mại.\n",
      "*   **Yêu cầu tuyển sinh:** Xét tuyển dựa trên điểm thi tốt nghiệp THPT và các phương thức khác theo quy định của Trường Đại học Thương mại.\n",
      "\n",
      "## So sánh các trường\n",
      "\n",
      "(Có thể thêm một bảng so sánh các trường về các tiêu chí như học phí, điểm chuẩn, thế mạnh đào tạo,...)\n",
      "\n",
      "## Kết luận\n",
      "\n",
      "Các trường kinh tế ở Hà Nội cung cấp nhiều lựa chọn học tập cho sinh viên quan tâm đến lĩnh vực này. Việc lựa chọn trường và ngành học phù hợp sẽ giúp sinh viên có được kiến thức và kỹ năng cần thiết để thành công trong sự nghiệp tương lai. Nên tìm hiểu kỹ thông tin về từng trường để đưa ra quyết định phù hợp nhất.\n",
      "\n"
     ]
    }
   ],
   "source": [
    "\n",
    "state = await handler.ctx.get(\"state\")\n",
    "print(state[\"report_content\"])"
   ]
  },
  {
   "cell_type": "code",
   "execution_count": 15,
   "id": "12360337",
   "metadata": {},
   "outputs": [
    {
     "data": {
      "text/plain": [
       "'# Các trường kinh tế ở Hà Nội\\n\\n## Giới thiệu\\n\\nHà Nội là một trung tâm lớn về đào tạo kinh tế ở Việt Nam, với nhiều trường đại học uy tín cung cấp các chương trình đào tạo đa dạng trong lĩnh vực này. Bài viết này sẽ giới thiệu một số trường kinh tế nổi bật ở Hà Nội, mô tả ngắn gọn về các ngành học, học phí, triển vọng tương lai, và các thông tin liên quan khác.\\n\\n## Các trường đại học kinh tế hàng đầu ở Hà Nội\\n\\n### 1. Trường Đại học Kinh tế Quốc dân (NEU)\\n\\n*   **Giới thiệu:** Trường Đại học Kinh tế Quốc dân là một trong những trường đại học hàng đầu về kinh tế và quản lý ở Việt Nam. Trường có bề dày lịch sử và đội ngũ giảng viên giàu kinh nghiệm.\\n*   **Ngành học:** NEU cung cấp 60 ngành và chương trình đào tạo khác nhau, bao gồm:\\n    *   Kinh tế\\n    *   Quản trị kinh doanh\\n    *   Tài chính - Ngân hàng\\n    *   Kế toán\\n    *   Marketing\\n    *   Kinh tế quốc tế\\n    *   Thương mại điện tử\\n    *   ... và nhiều ngành khác.\\n*   **Học phí:** Học phí dự kiến khoảng 44 triệu đồng/năm (có thể thay đổi theo từng năm).\\n*   **Triển vọng tương lai:** Sinh viên tốt nghiệp từ NEU có nhiều cơ hội việc làm trong các lĩnh vực như ngân hàng, tài chính, doanh nghiệp, tổ chức chính phủ và phi chính phủ. Các ngành kinh tế đang trở thành xu hướng trong xã hội phát triển, mở ra nhiều cơ hội việc làm.\\n*   **Yêu cầu tuyển sinh:** Xét tuyển dựa trên điểm thi tốt nghiệp THPT, xét tuyển thẳng, và xét tuyển theo đề án riêng của trường.\\n*   **Hợp tác quốc tế:** NEU có nhiều chương trình hợp tác với các trường đại học quốc tế, tạo cơ hội cho sinh viên tham gia trao đổi và học tập ở nước ngoài.\\n*   **Đời sống sinh viên:** NEU có nhiều câu lạc bộ và hoạt động ngoại khóa, giúp sinh viên phát triển kỹ năng mềm và mở rộng mạng lưới quan hệ.\\n\\n### 2. Khoa Kinh tế - Đại học Quốc gia Hà Nội (UEB - VNU)\\n\\n*   **Giới thiệu:** Khoa Kinh tế là một đơn vị thành viên của Đại học Quốc gia Hà Nội, chuyên đào tạo và nghiên cứu về kinh tế.\\n*   **Ngành học:**\\n    *   Kinh tế phát triển\\n    *   Kinh tế quốc tế\\n    *   Quản trị kinh doanh\\n    *   Tài chính - Ngân hàng\\n*   **Học phí:** (Cần tìm kiếm thông tin học phí cụ thể)\\n*   **Triển vọng tương lai:** Sinh viên tốt nghiệp có cơ hội làm việc trong các tổ chức nhà nước, doanh nghiệp, và các tổ chức quốc tế.\\n*   **Yêu cầu tuyển sinh:** Xét tuyển dựa trên điểm thi tốt nghiệp THPT và các phương thức khác theo quy định của Đại học Quốc gia Hà Nội.\\n\\n### 3. Học viện Tài chính (AOF)\\n\\n*   **Giới thiệu:** Học viện Tài chính là một trường đại học công lập chuyên đào tạo về lĩnh vực tài chính - kế toán.\\n*   **Ngành học:**\\n    *   Tài chính - Ngân hàng\\n    *   Kế toán\\n    *   Quản trị kinh doanh\\n    *   Hệ thống thông tin quản lý\\n*   **Học phí:** (Cần tìm kiếm thông tin học phí cụ thể)\\n*   **Triển vọng tương lai:** Sinh viên tốt nghiệp có cơ hội làm việc trong các ngân hàng, công ty tài chính, doanh nghiệp, và các tổ chức kiểm toán.\\n*   **Yêu cầu tuyển sinh:** Xét tuyển dựa trên điểm thi tốt nghiệp THPT và các phương thức khác theo quy định của Học viện Tài chính.\\n\\n### 4. Trường Đại học Thương mại (TCU)\\n\\n*   **Giới thiệu:** Trường Đại học Thương mại là một trường đại học công lập chuyên đào tạo về lĩnh vực thương mại và kinh doanh.\\n*   **Ngành học:**\\n    *   Quản trị kinh doanh\\n    *   Marketing\\n    *   Kinh doanh quốc tế\\n    *   Thương mại điện tử\\n    *   Kế toán\\n*   **Học phí:** (Cần tìm kiếm thông tin học phí cụ thể)\\n*   **Triển vọng tương lai:** Sinh viên tốt nghiệp có cơ hội làm việc trong các doanh nghiệp thương mại, công ty xuất nhập khẩu, và các tổ chức liên quan đến thương mại.\\n*   **Yêu cầu tuyển sinh:** Xét tuyển dựa trên điểm thi tốt nghiệp THPT và các phương thức khác theo quy định của Trường Đại học Thương mại.\\n\\n## So sánh các trường\\n\\n(Có thể thêm một bảng so sánh các trường về các tiêu chí như học phí, điểm chuẩn, thế mạnh đào tạo,...)\\n\\n## Kết luận\\n\\nCác trường kinh tế ở Hà Nội cung cấp nhiều lựa chọn học tập cho sinh viên quan tâm đến lĩnh vực này. Việc lựa chọn trường và ngành học phù hợp sẽ giúp sinh viên có được kiến thức và kỹ năng cần thiết để thành công trong sự nghiệp tương lai. Nên tìm hiểu kỹ thông tin về từng trường để đưa ra quyết định phù hợp nhất.\\n'"
      ]
     },
     "execution_count": 15,
     "metadata": {},
     "output_type": "execute_result"
    }
   ],
   "source": [
    "state[\"report_content\"]"
   ]
  }
 ],
 "metadata": {
  "kernelspec": {
   "display_name": "ab312",
   "language": "python",
   "name": "python3"
  },
  "language_info": {
   "codemirror_mode": {
    "name": "ipython",
    "version": 3
   },
   "file_extension": ".py",
   "mimetype": "text/x-python",
   "name": "python",
   "nbconvert_exporter": "python",
   "pygments_lexer": "ipython3",
   "version": "3.12.7"
  }
 },
 "nbformat": 4,
 "nbformat_minor": 5
}
