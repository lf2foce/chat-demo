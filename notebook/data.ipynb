{
 "cells": [
  {
   "cell_type": "code",
   "execution_count": 68,
   "metadata": {},
   "outputs": [
    {
     "name": "stdout",
     "output_type": "stream",
     "text": [
      "Index(['Tên trường', 'Mô tả trường', 'Thay đổi 2025', 'Thông tin trường',\n",
      "       'Chương trình', 'Điểm chuẩn ', 'Tags', 'Assignee', 'Status'],\n",
      "      dtype='object')\n"
     ]
    }
   ],
   "source": [
    "import pandas as pd\n",
    "import numpy as np\n",
    "\n",
    "\n",
    "df = pd.read_csv(\"Trường-Grid view (2).csv\")\n",
    "print(df.columns)"
   ]
  },
  {
   "cell_type": "code",
   "execution_count": 69,
   "metadata": {},
   "outputs": [],
   "source": [
    "df= df[['Tên trường', 'Mô tả trường', 'Thay đổi 2025', 'Thông tin trường',\n",
    "       'Chương trình', 'Điểm chuẩn ', 'Tags']]"
   ]
  },
  {
   "cell_type": "code",
   "execution_count": null,
   "metadata": {},
   "outputs": [],
   "source": [
    "# df = df[df.Tags.str.contains(\"Hồ Chí Minh\")]\n",
    "# df = df[df.Tags.str.contains(\"Hà Nội\")]"
   ]
  },
  {
   "cell_type": "code",
   "execution_count": 70,
   "metadata": {},
   "outputs": [
    {
     "data": {
      "text/plain": [
       "(165, 7)"
      ]
     },
     "execution_count": 70,
     "metadata": {},
     "output_type": "execute_result"
    }
   ],
   "source": [
    "df.shape"
   ]
  },
  {
   "cell_type": "code",
   "execution_count": 71,
   "metadata": {},
   "outputs": [
    {
     "data": {
      "text/html": [
       "<div>\n",
       "<style scoped>\n",
       "    .dataframe tbody tr th:only-of-type {\n",
       "        vertical-align: middle;\n",
       "    }\n",
       "\n",
       "    .dataframe tbody tr th {\n",
       "        vertical-align: top;\n",
       "    }\n",
       "\n",
       "    .dataframe thead th {\n",
       "        text-align: right;\n",
       "    }\n",
       "</style>\n",
       "<table border=\"1\" class=\"dataframe\">\n",
       "  <thead>\n",
       "    <tr style=\"text-align: right;\">\n",
       "      <th></th>\n",
       "      <th>Tên trường</th>\n",
       "      <th>Mô tả trường</th>\n",
       "      <th>Thay đổi 2025</th>\n",
       "      <th>Thông tin trường</th>\n",
       "      <th>Chương trình</th>\n",
       "      <th>Điểm chuẩn</th>\n",
       "      <th>Tags</th>\n",
       "    </tr>\n",
       "  </thead>\n",
       "  <tbody>\n",
       "    <tr>\n",
       "      <th>0</th>\n",
       "      <td>Trường Đại học Công nghệ Thông tin ĐHQG TPHCM ...</td>\n",
       "      <td>Trường Đại học Công nghệ Thông tin (UIT) là mộ...</td>\n",
       "      <td>Dựa trên thông tin từ các nguồn chính thức của...</td>\n",
       "      <td>Dựa trên thông tin từ các nguồn chính thức, cá...</td>\n",
       "      <td>Dưới đây là thông tin chi tiết về các chương t...</td>\n",
       "      <td>Điểm chuẩn năm 2024 của Trường Đại học Công ng...</td>\n",
       "      <td>[\"Công lập\", \"Hồ Chí Minh\", \"Công nghệ\", \"Kỹ t...</td>\n",
       "    </tr>\n",
       "    <tr>\n",
       "      <th>1</th>\n",
       "      <td>Trường Đại học Y khoa Phạm Ngọc Thạch (PNTU)</td>\n",
       "      <td>Trường Đại học Y khoa Phạm Ngọc Thạch (PNTU) l...</td>\n",
       "      <td>'- Website chính thức: https://www.pnt.edu.vn/...</td>\n",
       "      <td>Dựa trên thông tin từ các nguồn đáng tin cậy, ...</td>\n",
       "      <td>Dưới đây là thông tin chi tiết về các chương t...</td>\n",
       "      <td>Điểm chuẩn Trường Đại học Y khoa Phạm Ngọc Thạ...</td>\n",
       "      <td>[\"Công lập\", \"Hồ Chí Minh\", \"Y Dược\"]</td>\n",
       "    </tr>\n",
       "    <tr>\n",
       "      <th>2</th>\n",
       "      <td>Trường Đại học Hà Nội (HANU)</td>\n",
       "      <td>Trường Đại học Hà Nội (HANU) nổi tiếng là một ...</td>\n",
       "      <td>- Website chính thức: https://hanu.vn/\\n- Webs...</td>\n",
       "      <td>Dựa trên thông tin từ các nguồn chính thức năm...</td>\n",
       "      <td>Dưới đây là thông tin chi tiết về các chương t...</td>\n",
       "      <td>Điểm chuẩn năm 2024 của Trường Đại học Hà Nội ...</td>\n",
       "      <td>[\"Công lập\", \"Hà Nội\", \"Ngôn ngữ\", \"Kinh tế Ki...</td>\n",
       "    </tr>\n",
       "    <tr>\n",
       "      <th>3</th>\n",
       "      <td>Học viện Nông nghiệp Việt Nam (VNUA)</td>\n",
       "      <td>Học viện Nông nghiệp Việt Nam (VNUA) là một tr...</td>\n",
       "      <td>'- Website chính thức của Học viện Nông nghiệp...</td>\n",
       "      <td>Dựa trên thông tin từ các nguồn chính thức, cá...</td>\n",
       "      <td>Dựa trên thông tin từ các nguồn chính thức của...</td>\n",
       "      <td>Dựa trên thông tin từ các nguồn đáng tin cậy, ...</td>\n",
       "      <td>[\"Công lập\", \"Hà Nội\", \"Nông lâm\", \"Kỹ thuật k...</td>\n",
       "    </tr>\n",
       "    <tr>\n",
       "      <th>4</th>\n",
       "      <td>Trường Đại học Khoa học Xã hội và Nhân văn ĐHQ...</td>\n",
       "      <td>Trường Đại học Khoa học Xã hội và Nhân văn, ĐH...</td>\n",
       "      <td>'- Website chính thức: https://hcmussh.edu.vn\\...</td>\n",
       "      <td>Dựa trên thông tin từ các nguồn đáng tin cậy, ...</td>\n",
       "      <td>Dưới đây là thông tin về các chương trình đào ...</td>\n",
       "      <td>Điểm chuẩn năm 2024 của Trường Đại học Khoa họ...</td>\n",
       "      <td>[\"Công lập\", \"Hồ Chí Minh\", \"Khoa học xã hội\",...</td>\n",
       "    </tr>\n",
       "    <tr>\n",
       "      <th>...</th>\n",
       "      <td>...</td>\n",
       "      <td>...</td>\n",
       "      <td>...</td>\n",
       "      <td>...</td>\n",
       "      <td>...</td>\n",
       "      <td>...</td>\n",
       "      <td>...</td>\n",
       "    </tr>\n",
       "    <tr>\n",
       "      <th>160</th>\n",
       "      <td>Trường Quản trị và Kinh doanh, ĐHQGHN (HSB)</td>\n",
       "      <td>Trường Quản trị và Kinh doanh (HSB) là một đơn...</td>\n",
       "      <td>Dưới đây là những thay đổi chính của Trường Qu...</td>\n",
       "      <td>Dựa trên thông tin từ các nguồn đáng tin cậy, ...</td>\n",
       "      <td>## Chương trình đào tạo và học phí năm 2025 củ...</td>\n",
       "      <td>Dựa trên thông tin từ các nguồn đáng tin cậy n...</td>\n",
       "      <td>[\"Công lập\", \"Hà Nội\", \"Kinh tế\", \"Quản trị\", ...</td>\n",
       "    </tr>\n",
       "    <tr>\n",
       "      <th>161</th>\n",
       "      <td>Trường Đại học Quản lý và Công nghệ TP.HCM (UMT)</td>\n",
       "      <td>Trường Đại học Quản lý và Công nghệ TP.HCM (UM...</td>\n",
       "      <td>- Website chính thức của trường: https://www.u...</td>\n",
       "      <td>Dựa trên thông tin từ các nguồn đáng tin cậy, ...</td>\n",
       "      <td>Dưới đây là thông tin về các chương trình đào ...</td>\n",
       "      <td>Dựa trên thông tin từ các nguồn đáng tin cậy, ...</td>\n",
       "      <td>[\"Tư thục\", \"TP. Hồ Chí Minh\", \"Kinh tế Kinh d...</td>\n",
       "    </tr>\n",
       "    <tr>\n",
       "      <th>162</th>\n",
       "      <td>Trường Đại học Quốc tế Miền Đông (EIU)</td>\n",
       "      <td>Trường Đại học Quốc tế Miền Đông (EIU) nổi tiế...</td>\n",
       "      <td>Dựa trên thông tin từ các nguồn chính thức của...</td>\n",
       "      <td>Trường Đại học Quốc tế Miền Đông (EIU) dự kiến...</td>\n",
       "      <td>Dưới đây là thông tin chi tiết về các chương t...</td>\n",
       "      <td>Dưới đây là chi tiết các ngành và điểm chuẩn n...</td>\n",
       "      <td>[\\n  \"Tư thục\",\\n  \"Bình Dương\",\\n  \"Kinh tế K...</td>\n",
       "    </tr>\n",
       "    <tr>\n",
       "      <th>163</th>\n",
       "      <td>Trường Đại học Quốc tế, ĐHQG TPHCM (HCMIU)</td>\n",
       "      <td>Trường Đại học Quốc tế (HCMIU) là một trường đ...</td>\n",
       "      <td>Dựa trên thông tin từ các nguồn chính thức, đâ...</td>\n",
       "      <td>Dựa trên thông tin từ các nguồn đáng tin cậy, ...</td>\n",
       "      <td>Dưới đây là thông tin chi tiết về các chương t...</td>\n",
       "      <td>Dựa trên thông tin từ các nguồn đáng tin cậy, ...</td>\n",
       "      <td>[\"Công lập\", \"Thành phố Hồ Chí Minh\", \"Kinh tế...</td>\n",
       "    </tr>\n",
       "    <tr>\n",
       "      <th>164</th>\n",
       "      <td>Đại học An ninh nhân dân (ANS)</td>\n",
       "      <td>Trường Đại học An ninh nhân dân (ANS) là một t...</td>\n",
       "      <td>'- Website chính thức của trường: https://dhan...</td>\n",
       "      <td>Dựa trên thông tin từ các nguồn đáng tin cậy t...</td>\n",
       "      <td>Dưới đây là thông tin chi tiết về các chương t...</td>\n",
       "      <td>Dưới đây là chi tiết các ngành và điểm chuẩn n...</td>\n",
       "      <td>[\"Công lập\", \"Hồ Chí Minh\", \"An ninh Công an Q...</td>\n",
       "    </tr>\n",
       "  </tbody>\n",
       "</table>\n",
       "<p>165 rows × 7 columns</p>\n",
       "</div>"
      ],
      "text/plain": [
       "                                            Tên trường  \\\n",
       "0    Trường Đại học Công nghệ Thông tin ĐHQG TPHCM ...   \n",
       "1         Trường Đại học Y khoa Phạm Ngọc Thạch (PNTU)   \n",
       "2                         Trường Đại học Hà Nội (HANU)   \n",
       "3                 Học viện Nông nghiệp Việt Nam (VNUA)   \n",
       "4    Trường Đại học Khoa học Xã hội và Nhân văn ĐHQ...   \n",
       "..                                                 ...   \n",
       "160       Trường Quản trị và Kinh doanh, ĐHQGHN (HSB)    \n",
       "161   Trường Đại học Quản lý và Công nghệ TP.HCM (UMT)   \n",
       "162             Trường Đại học Quốc tế Miền Đông (EIU)   \n",
       "163         Trường Đại học Quốc tế, ĐHQG TPHCM (HCMIU)   \n",
       "164                     Đại học An ninh nhân dân (ANS)   \n",
       "\n",
       "                                          Mô tả trường  \\\n",
       "0    Trường Đại học Công nghệ Thông tin (UIT) là mộ...   \n",
       "1    Trường Đại học Y khoa Phạm Ngọc Thạch (PNTU) l...   \n",
       "2    Trường Đại học Hà Nội (HANU) nổi tiếng là một ...   \n",
       "3    Học viện Nông nghiệp Việt Nam (VNUA) là một tr...   \n",
       "4    Trường Đại học Khoa học Xã hội và Nhân văn, ĐH...   \n",
       "..                                                 ...   \n",
       "160  Trường Quản trị và Kinh doanh (HSB) là một đơn...   \n",
       "161  Trường Đại học Quản lý và Công nghệ TP.HCM (UM...   \n",
       "162  Trường Đại học Quốc tế Miền Đông (EIU) nổi tiế...   \n",
       "163  Trường Đại học Quốc tế (HCMIU) là một trường đ...   \n",
       "164  Trường Đại học An ninh nhân dân (ANS) là một t...   \n",
       "\n",
       "                                         Thay đổi 2025  \\\n",
       "0    Dựa trên thông tin từ các nguồn chính thức của...   \n",
       "1    '- Website chính thức: https://www.pnt.edu.vn/...   \n",
       "2    - Website chính thức: https://hanu.vn/\\n- Webs...   \n",
       "3    '- Website chính thức của Học viện Nông nghiệp...   \n",
       "4    '- Website chính thức: https://hcmussh.edu.vn\\...   \n",
       "..                                                 ...   \n",
       "160  Dưới đây là những thay đổi chính của Trường Qu...   \n",
       "161  - Website chính thức của trường: https://www.u...   \n",
       "162  Dựa trên thông tin từ các nguồn chính thức của...   \n",
       "163  Dựa trên thông tin từ các nguồn chính thức, đâ...   \n",
       "164  '- Website chính thức của trường: https://dhan...   \n",
       "\n",
       "                                      Thông tin trường  \\\n",
       "0    Dựa trên thông tin từ các nguồn chính thức, cá...   \n",
       "1    Dựa trên thông tin từ các nguồn đáng tin cậy, ...   \n",
       "2    Dựa trên thông tin từ các nguồn chính thức năm...   \n",
       "3    Dựa trên thông tin từ các nguồn chính thức, cá...   \n",
       "4    Dựa trên thông tin từ các nguồn đáng tin cậy, ...   \n",
       "..                                                 ...   \n",
       "160  Dựa trên thông tin từ các nguồn đáng tin cậy, ...   \n",
       "161  Dựa trên thông tin từ các nguồn đáng tin cậy, ...   \n",
       "162  Trường Đại học Quốc tế Miền Đông (EIU) dự kiến...   \n",
       "163  Dựa trên thông tin từ các nguồn đáng tin cậy, ...   \n",
       "164  Dựa trên thông tin từ các nguồn đáng tin cậy t...   \n",
       "\n",
       "                                          Chương trình  \\\n",
       "0    Dưới đây là thông tin chi tiết về các chương t...   \n",
       "1    Dưới đây là thông tin chi tiết về các chương t...   \n",
       "2    Dưới đây là thông tin chi tiết về các chương t...   \n",
       "3    Dựa trên thông tin từ các nguồn chính thức của...   \n",
       "4    Dưới đây là thông tin về các chương trình đào ...   \n",
       "..                                                 ...   \n",
       "160  ## Chương trình đào tạo và học phí năm 2025 củ...   \n",
       "161  Dưới đây là thông tin về các chương trình đào ...   \n",
       "162  Dưới đây là thông tin chi tiết về các chương t...   \n",
       "163  Dưới đây là thông tin chi tiết về các chương t...   \n",
       "164  Dưới đây là thông tin chi tiết về các chương t...   \n",
       "\n",
       "                                           Điểm chuẩn   \\\n",
       "0    Điểm chuẩn năm 2024 của Trường Đại học Công ng...   \n",
       "1    Điểm chuẩn Trường Đại học Y khoa Phạm Ngọc Thạ...   \n",
       "2    Điểm chuẩn năm 2024 của Trường Đại học Hà Nội ...   \n",
       "3    Dựa trên thông tin từ các nguồn đáng tin cậy, ...   \n",
       "4    Điểm chuẩn năm 2024 của Trường Đại học Khoa họ...   \n",
       "..                                                 ...   \n",
       "160  Dựa trên thông tin từ các nguồn đáng tin cậy n...   \n",
       "161  Dựa trên thông tin từ các nguồn đáng tin cậy, ...   \n",
       "162  Dưới đây là chi tiết các ngành và điểm chuẩn n...   \n",
       "163  Dựa trên thông tin từ các nguồn đáng tin cậy, ...   \n",
       "164  Dưới đây là chi tiết các ngành và điểm chuẩn n...   \n",
       "\n",
       "                                                  Tags  \n",
       "0    [\"Công lập\", \"Hồ Chí Minh\", \"Công nghệ\", \"Kỹ t...  \n",
       "1                [\"Công lập\", \"Hồ Chí Minh\", \"Y Dược\"]  \n",
       "2    [\"Công lập\", \"Hà Nội\", \"Ngôn ngữ\", \"Kinh tế Ki...  \n",
       "3    [\"Công lập\", \"Hà Nội\", \"Nông lâm\", \"Kỹ thuật k...  \n",
       "4    [\"Công lập\", \"Hồ Chí Minh\", \"Khoa học xã hội\",...  \n",
       "..                                                 ...  \n",
       "160  [\"Công lập\", \"Hà Nội\", \"Kinh tế\", \"Quản trị\", ...  \n",
       "161  [\"Tư thục\", \"TP. Hồ Chí Minh\", \"Kinh tế Kinh d...  \n",
       "162  [\\n  \"Tư thục\",\\n  \"Bình Dương\",\\n  \"Kinh tế K...  \n",
       "163  [\"Công lập\", \"Thành phố Hồ Chí Minh\", \"Kinh tế...  \n",
       "164  [\"Công lập\", \"Hồ Chí Minh\", \"An ninh Công an Q...  \n",
       "\n",
       "[165 rows x 7 columns]"
      ]
     },
     "execution_count": 71,
     "metadata": {},
     "output_type": "execute_result"
    }
   ],
   "source": [
    "df"
   ]
  },
  {
   "cell_type": "code",
   "execution_count": 72,
   "metadata": {},
   "outputs": [
    {
     "data": {
      "text/plain": [
       "Index(['Tên trường', 'Mô tả trường', 'Thay đổi 2025', 'Thông tin trường',\n",
       "       'Chương trình', 'Điểm chuẩn ', 'Tags'],\n",
       "      dtype='object')"
      ]
     },
     "execution_count": 72,
     "metadata": {},
     "output_type": "execute_result"
    }
   ],
   "source": [
    "df.columns"
   ]
  },
  {
   "cell_type": "code",
   "execution_count": null,
   "metadata": {},
   "outputs": [],
   "source": [
    "# df.head(2).to_csv('university.csv')"
   ]
  },
  {
   "cell_type": "code",
   "execution_count": 73,
   "metadata": {},
   "outputs": [],
   "source": [
    "def combine_fields(row):\n",
    "    fields = [\n",
    "        f\"Tên trường: {row['Tên trường']}\",\n",
    "        f\"Mô tả: {row['Mô tả trường']}\",\n",
    "        f\"Thay đổi 2025: {row['Thay đổi 2025']}\",\n",
    "        f\"Thông tin trường: {row['Thông tin trường']}\",\n",
    "        f\"Chương trình: {row['Chương trình']}\",\n",
    "        f\"Điểm chuẩn: {row['Điểm chuẩn ']}\",\n",
    "        f\"Tags: {row['Tags']}\",\n",
    "    ]\n",
    "    # Lọc bỏ field nào bị NaN\n",
    "    return \"\\n\".join([str(f) for f in fields if pd.notnull(f)])\n",
    "\n",
    "df[\"text\"] = df.apply(combine_fields, axis=1)\n",
    "\n",
    "# Xuất ra file text hoặc lưu lại cho bước embedding\n",
    "df[[\"text\"]].to_csv(\"university_texts_full_165.csv\", index=False)"
   ]
  },
  {
   "cell_type": "code",
   "execution_count": 67,
   "metadata": {},
   "outputs": [],
   "source": [
    "from llama_index.core import SimpleDirectoryReader, VectorStoreIndex, Document\n",
    "# from llama_index.embeddings.openai import OpenAIEmbedding  # hoặc GoogleGenAIEmbedding\n",
    "from llama_index.embeddings.google_genai import GoogleGenAIEmbedding\n",
    "from llama_index.llms.google_genai import GoogleGenAI\n",
    "from llama_index.vector_stores.faiss import FaissVectorStore\n",
    "\n",
    "from llama_index.core import StorageContext, load_index_from_storage\n",
    "\n",
    "import faiss\n",
    "\n",
    "# Load dữ liệu\n",
    "docs = [Document(text=txt) for txt in df[\"text\"].head(5).tolist()]\n",
    "\n",
    "# Khởi tạo FAISS store\n",
    "faiss_index = faiss.IndexFlatL2(768)  # số chiều phụ thuộc embedding\n",
    "vector_store = FaissVectorStore(faiss_index)\n",
    "\n",
    "# Khởi tạo embedding model\n",
    "# embed_model = OpenAIEmbedding()  \n",
    "embed_model = GoogleGenAIEmbedding(model_name=\"gemini-embedding-exp-03-07\")\n",
    "\n",
    "# Tạo index\n",
    "index = VectorStoreIndex.from_documents(docs, embed_model=embed_model, vector_store=vector_store)"
   ]
  },
  {
   "cell_type": "code",
   "execution_count": 59,
   "metadata": {},
   "outputs": [
    {
     "ename": "TypeError",
     "evalue": "CondensePlusContextChatEngine.from_defaults() missing 1 required positional argument: 'retriever'",
     "output_type": "error",
     "traceback": [
      "\u001b[0;31m---------------------------------------------------------------------------\u001b[0m",
      "\u001b[0;31mTypeError\u001b[0m                                 Traceback (most recent call last)",
      "Cell \u001b[0;32mIn[59], line 3\u001b[0m\n\u001b[1;32m      1\u001b[0m \u001b[38;5;28;01mfrom\u001b[39;00m \u001b[38;5;21;01mllama_index\u001b[39;00m\u001b[38;5;21;01m.\u001b[39;00m\u001b[38;5;21;01mcore\u001b[39;00m\u001b[38;5;21;01m.\u001b[39;00m\u001b[38;5;21;01mchat_engine\u001b[39;00m \u001b[38;5;28;01mimport\u001b[39;00m CondensePlusContextChatEngine\n\u001b[0;32m----> 3\u001b[0m chat_engine \u001b[38;5;241m=\u001b[39m \u001b[43mCondensePlusContextChatEngine\u001b[49m\u001b[38;5;241;43m.\u001b[39;49m\u001b[43mfrom_defaults\u001b[49m\u001b[43m(\u001b[49m\u001b[43mindex\u001b[49m\u001b[38;5;241;43m=\u001b[39;49m\u001b[43mindex\u001b[49m\u001b[43m)\u001b[49m\n\u001b[1;32m      5\u001b[0m \u001b[38;5;66;03m# Chat thử\u001b[39;00m\n\u001b[1;32m      6\u001b[0m response \u001b[38;5;241m=\u001b[39m chat_engine\u001b[38;5;241m.\u001b[39mchat(\u001b[38;5;124m\"\u001b[39m\u001b[38;5;124mTrường nào đào tạo ngành trí tuệ nhân tạo?\u001b[39m\u001b[38;5;124m\"\u001b[39m)\n",
      "\u001b[0;31mTypeError\u001b[0m: CondensePlusContextChatEngine.from_defaults() missing 1 required positional argument: 'retriever'"
     ]
    }
   ],
   "source": [
    "from llama_index.core.chat_engine import CondensePlusContextChatEngine\n",
    "\n",
    "chat_engine = CondensePlusContextChatEngine.from_defaults(index=index)\n",
    "\n",
    "# Chat thử\n",
    "response = chat_engine.chat(\"Trường nào đào tạo ngành trí tuệ nhân tạo?\")\n",
    "print(response)\n"
   ]
  },
  {
   "cell_type": "code",
   "execution_count": 54,
   "metadata": {},
   "outputs": [],
   "source": [
    "# Persist (lưu) index ra ổ đĩa (ví dụ ./storage)\n",
    "index.storage_context.persist(persist_dir=\"./storage\")"
   ]
  },
  {
   "cell_type": "code",
   "execution_count": 55,
   "metadata": {},
   "outputs": [
    {
     "ename": "RuntimeError",
     "evalue": "Error in Index *faiss::read_index(IOReader *, int) at /Users/runner/work/faiss-wheels/faiss-wheels/faiss/faiss/impl/index_read.cpp:1234: Index type 0x6d65227b (\"{\"em\") not recognized",
     "output_type": "error",
     "traceback": [
      "\u001b[0;31m---------------------------------------------------------------------------\u001b[0m",
      "\u001b[0;31mRuntimeError\u001b[0m                              Traceback (most recent call last)",
      "\u001b[0;32m/var/folders/x5/hz3hvkxn58sdsfnlnm0km3r00000gn/T/ipykernel_85290/2523653518.py\u001b[0m in \u001b[0;36m?\u001b[0;34m()\u001b[0m\n\u001b[1;32m      1\u001b[0m \u001b[0;32mfrom\u001b[0m \u001b[0mllama_index\u001b[0m\u001b[0;34m.\u001b[0m\u001b[0mvector_stores\u001b[0m\u001b[0;34m.\u001b[0m\u001b[0mfaiss\u001b[0m \u001b[0;32mimport\u001b[0m \u001b[0mFaissVectorStore\u001b[0m\u001b[0;34m\u001b[0m\u001b[0;34m\u001b[0m\u001b[0m\n\u001b[1;32m      2\u001b[0m \u001b[0;32mfrom\u001b[0m \u001b[0mllama_index\u001b[0m\u001b[0;34m.\u001b[0m\u001b[0mcore\u001b[0m \u001b[0;32mimport\u001b[0m \u001b[0mStorageContext\u001b[0m\u001b[0;34m,\u001b[0m \u001b[0mload_index_from_storage\u001b[0m\u001b[0;34m\u001b[0m\u001b[0;34m\u001b[0m\u001b[0m\n\u001b[1;32m      3\u001b[0m \u001b[0;34m\u001b[0m\u001b[0m\n\u001b[1;32m      4\u001b[0m \u001b[0;31m# Load FAISS từ thư mục đã lưu\u001b[0m\u001b[0;34m\u001b[0m\u001b[0;34m\u001b[0m\u001b[0m\n\u001b[0;32m----> 5\u001b[0;31m \u001b[0mvector_store\u001b[0m \u001b[0;34m=\u001b[0m \u001b[0mFaissVectorStore\u001b[0m\u001b[0;34m.\u001b[0m\u001b[0mfrom_persist_dir\u001b[0m\u001b[0;34m(\u001b[0m\u001b[0;34m\"./storage\"\u001b[0m\u001b[0;34m)\u001b[0m\u001b[0;34m\u001b[0m\u001b[0;34m\u001b[0m\u001b[0m\n\u001b[0m\u001b[1;32m      6\u001b[0m \u001b[0;31m# storage_context = StorageContext.from_defaults(vector_store=vector_store)\u001b[0m\u001b[0;34m\u001b[0m\u001b[0;34m\u001b[0m\u001b[0m\n\u001b[1;32m      7\u001b[0m \u001b[0;31m# index = load_index_from_storage(storage_context=storage_context)\u001b[0m\u001b[0;34m\u001b[0m\u001b[0;34m\u001b[0m\u001b[0m\n\u001b[1;32m      8\u001b[0m \u001b[0;34m\u001b[0m\u001b[0m\n",
      "\u001b[0;32m/opt/anaconda3/envs/ab312/lib/python3.12/site-packages/llama_index/vector_stores/faiss/base.py\u001b[0m in \u001b[0;36m?\u001b[0;34m(cls, persist_dir, fs)\u001b[0m\n\u001b[1;32m     93\u001b[0m         \u001b[0;34m)\u001b[0m\u001b[0;34m\u001b[0m\u001b[0;34m\u001b[0m\u001b[0m\n\u001b[1;32m     94\u001b[0m         \u001b[0;31m# only support local storage for now\u001b[0m\u001b[0;34m\u001b[0m\u001b[0;34m\u001b[0m\u001b[0m\n\u001b[1;32m     95\u001b[0m         \u001b[0;32mif\u001b[0m \u001b[0mfs\u001b[0m \u001b[0;32mand\u001b[0m \u001b[0;32mnot\u001b[0m \u001b[0misinstance\u001b[0m\u001b[0;34m(\u001b[0m\u001b[0mfs\u001b[0m\u001b[0;34m,\u001b[0m \u001b[0mLocalFileSystem\u001b[0m\u001b[0;34m)\u001b[0m\u001b[0;34m:\u001b[0m\u001b[0;34m\u001b[0m\u001b[0;34m\u001b[0m\u001b[0m\n\u001b[1;32m     96\u001b[0m             \u001b[0;32mraise\u001b[0m \u001b[0mNotImplementedError\u001b[0m\u001b[0;34m(\u001b[0m\u001b[0;34m\"FAISS only supports local storage for now.\"\u001b[0m\u001b[0;34m)\u001b[0m\u001b[0;34m\u001b[0m\u001b[0;34m\u001b[0m\u001b[0m\n\u001b[0;32m---> 97\u001b[0;31m         \u001b[0;32mreturn\u001b[0m \u001b[0mcls\u001b[0m\u001b[0;34m.\u001b[0m\u001b[0mfrom_persist_path\u001b[0m\u001b[0;34m(\u001b[0m\u001b[0mpersist_path\u001b[0m\u001b[0;34m=\u001b[0m\u001b[0mpersist_path\u001b[0m\u001b[0;34m,\u001b[0m \u001b[0mfs\u001b[0m\u001b[0;34m=\u001b[0m\u001b[0;32mNone\u001b[0m\u001b[0;34m)\u001b[0m\u001b[0;34m\u001b[0m\u001b[0;34m\u001b[0m\u001b[0m\n\u001b[0m",
      "\u001b[0;32m/opt/anaconda3/envs/ab312/lib/python3.12/site-packages/llama_index/vector_stores/faiss/base.py\u001b[0m in \u001b[0;36m?\u001b[0;34m(cls, persist_path, fs)\u001b[0m\n\u001b[1;32m    112\u001b[0m         \u001b[0;32mif\u001b[0m \u001b[0;32mnot\u001b[0m \u001b[0mos\u001b[0m\u001b[0;34m.\u001b[0m\u001b[0mpath\u001b[0m\u001b[0;34m.\u001b[0m\u001b[0mexists\u001b[0m\u001b[0;34m(\u001b[0m\u001b[0mpersist_path\u001b[0m\u001b[0;34m)\u001b[0m\u001b[0;34m:\u001b[0m\u001b[0;34m\u001b[0m\u001b[0;34m\u001b[0m\u001b[0m\n\u001b[1;32m    113\u001b[0m             \u001b[0;32mraise\u001b[0m \u001b[0mValueError\u001b[0m\u001b[0;34m(\u001b[0m\u001b[0;34mf\"\u001b[0m\u001b[0;34mNo existing \u001b[0m\u001b[0;34m{\u001b[0m\u001b[0m__name__\u001b[0m\u001b[0;34m}\u001b[0m\u001b[0;34m found at \u001b[0m\u001b[0;34m{\u001b[0m\u001b[0mpersist_path\u001b[0m\u001b[0;34m}\u001b[0m\u001b[0;34m.\u001b[0m\u001b[0;34m\"\u001b[0m\u001b[0;34m)\u001b[0m\u001b[0;34m\u001b[0m\u001b[0;34m\u001b[0m\u001b[0m\n\u001b[1;32m    114\u001b[0m \u001b[0;34m\u001b[0m\u001b[0m\n\u001b[1;32m    115\u001b[0m         \u001b[0mlogger\u001b[0m\u001b[0;34m.\u001b[0m\u001b[0minfo\u001b[0m\u001b[0;34m(\u001b[0m\u001b[0;34mf\"\u001b[0m\u001b[0;34mLoading \u001b[0m\u001b[0;34m{\u001b[0m\u001b[0m__name__\u001b[0m\u001b[0;34m}\u001b[0m\u001b[0;34m from \u001b[0m\u001b[0;34m{\u001b[0m\u001b[0mpersist_path\u001b[0m\u001b[0;34m}\u001b[0m\u001b[0;34m.\u001b[0m\u001b[0;34m\"\u001b[0m\u001b[0;34m)\u001b[0m\u001b[0;34m\u001b[0m\u001b[0;34m\u001b[0m\u001b[0m\n\u001b[0;32m--> 116\u001b[0;31m         \u001b[0mfaiss_index\u001b[0m \u001b[0;34m=\u001b[0m \u001b[0mfaiss\u001b[0m\u001b[0;34m.\u001b[0m\u001b[0mread_index\u001b[0m\u001b[0;34m(\u001b[0m\u001b[0mpersist_path\u001b[0m\u001b[0;34m)\u001b[0m\u001b[0;34m\u001b[0m\u001b[0;34m\u001b[0m\u001b[0m\n\u001b[0m\u001b[1;32m    117\u001b[0m         \u001b[0;32mreturn\u001b[0m \u001b[0mcls\u001b[0m\u001b[0;34m(\u001b[0m\u001b[0mfaiss_index\u001b[0m\u001b[0;34m=\u001b[0m\u001b[0mfaiss_index\u001b[0m\u001b[0;34m)\u001b[0m\u001b[0;34m\u001b[0m\u001b[0;34m\u001b[0m\u001b[0m\n",
      "\u001b[0;32m/opt/anaconda3/envs/ab312/lib/python3.12/site-packages/faiss/swigfaiss.py\u001b[0m in \u001b[0;36m?\u001b[0;34m(*args)\u001b[0m\n\u001b[1;32m  11640\u001b[0m \u001b[0;32mdef\u001b[0m \u001b[0mread_index\u001b[0m\u001b[0;34m(\u001b[0m\u001b[0;34m*\u001b[0m\u001b[0margs\u001b[0m\u001b[0;34m)\u001b[0m\u001b[0;34m:\u001b[0m\u001b[0;34m\u001b[0m\u001b[0;34m\u001b[0m\u001b[0m\n\u001b[0;32m> 11641\u001b[0;31m     \u001b[0;32mreturn\u001b[0m \u001b[0m_swigfaiss\u001b[0m\u001b[0;34m.\u001b[0m\u001b[0mread_index\u001b[0m\u001b[0;34m(\u001b[0m\u001b[0;34m*\u001b[0m\u001b[0margs\u001b[0m\u001b[0;34m)\u001b[0m\u001b[0;34m\u001b[0m\u001b[0;34m\u001b[0m\u001b[0m\n\u001b[0m",
      "\u001b[0;31mRuntimeError\u001b[0m: Error in Index *faiss::read_index(IOReader *, int) at /Users/runner/work/faiss-wheels/faiss-wheels/faiss/faiss/impl/index_read.cpp:1234: Index type 0x6d65227b (\"{\"em\") not recognized"
     ]
    }
   ],
   "source": [
    "from llama_index.vector_stores.faiss import FaissVectorStore\n",
    "from llama_index.core import StorageContext, load_index_from_storage\n",
    "\n",
    "# Load FAISS từ thư mục đã lưu\n",
    "vector_store = FaissVectorStore.from_persist_dir(\"./storage\")\n",
    "# storage_context = StorageContext.from_defaults(vector_store=vector_store)\n",
    "# index = load_index_from_storage(storage_context=storage_context)\n",
    "\n",
    "# # Tạo chat engine\n",
    "# from llama_index.core.chat_engine import CondensePlusContextChatEngine\n",
    "# chat_engine = CondensePlusContextChatEngine.from_defaults(index=index)\n",
    "\n",
    "# # Chat thử\n",
    "# response = chat_engine.chat(\"Trường nào đào tạo ngành trí tuệ nhân tạo?\")\n",
    "# print(response)"
   ]
  },
  {
   "cell_type": "code",
   "execution_count": 36,
   "metadata": {},
   "outputs": [
    {
     "ename": "RuntimeError",
     "evalue": "Error in Index *faiss::read_index(IOReader *, int) at /Users/runner/work/faiss-wheels/faiss-wheels/faiss/faiss/impl/index_read.cpp:1234: Index type 0x6d65227b (\"{\"em\") not recognized",
     "output_type": "error",
     "traceback": [
      "\u001b[0;31m---------------------------------------------------------------------------\u001b[0m",
      "\u001b[0;31mRuntimeError\u001b[0m                              Traceback (most recent call last)",
      "\u001b[0;32m/var/folders/x5/hz3hvkxn58sdsfnlnm0km3r00000gn/T/ipykernel_85290/2638103586.py\u001b[0m in \u001b[0;36m?\u001b[0;34m()\u001b[0m\n\u001b[1;32m      1\u001b[0m \u001b[0;32mfrom\u001b[0m \u001b[0mllama_index\u001b[0m\u001b[0;34m.\u001b[0m\u001b[0mvector_stores\u001b[0m\u001b[0;34m.\u001b[0m\u001b[0mfaiss\u001b[0m \u001b[0;32mimport\u001b[0m \u001b[0mFaissVectorStore\u001b[0m\u001b[0;34m\u001b[0m\u001b[0;34m\u001b[0m\u001b[0m\n\u001b[1;32m      2\u001b[0m \u001b[0;32mfrom\u001b[0m \u001b[0mllama_index\u001b[0m\u001b[0;34m.\u001b[0m\u001b[0mcore\u001b[0m \u001b[0;32mimport\u001b[0m \u001b[0mStorageContext\u001b[0m\u001b[0;34m,\u001b[0m \u001b[0mload_index_from_storage\u001b[0m\u001b[0;34m\u001b[0m\u001b[0;34m\u001b[0m\u001b[0m\n\u001b[1;32m      3\u001b[0m \u001b[0;34m\u001b[0m\u001b[0m\n\u001b[0;32m----> 4\u001b[0;31m \u001b[0mvector_store\u001b[0m \u001b[0;34m=\u001b[0m \u001b[0mFaissVectorStore\u001b[0m\u001b[0;34m.\u001b[0m\u001b[0mfrom_persist_dir\u001b[0m\u001b[0;34m(\u001b[0m\u001b[0;34m\"./storage\"\u001b[0m\u001b[0;34m)\u001b[0m\u001b[0;34m\u001b[0m\u001b[0;34m\u001b[0m\u001b[0m\n\u001b[0m\u001b[1;32m      5\u001b[0m \u001b[0mstorage_context\u001b[0m \u001b[0;34m=\u001b[0m \u001b[0mStorageContext\u001b[0m\u001b[0;34m.\u001b[0m\u001b[0mfrom_defaults\u001b[0m\u001b[0;34m(\u001b[0m\u001b[0mvector_store\u001b[0m\u001b[0;34m=\u001b[0m\u001b[0mvector_store\u001b[0m\u001b[0;34m)\u001b[0m\u001b[0;34m\u001b[0m\u001b[0;34m\u001b[0m\u001b[0m\n\u001b[1;32m      6\u001b[0m \u001b[0mindex\u001b[0m \u001b[0;34m=\u001b[0m \u001b[0mload_index_from_storage\u001b[0m\u001b[0;34m(\u001b[0m\u001b[0mstorage_context\u001b[0m\u001b[0;34m=\u001b[0m\u001b[0mstorage_context\u001b[0m\u001b[0;34m)\u001b[0m\u001b[0;34m\u001b[0m\u001b[0;34m\u001b[0m\u001b[0m\n",
      "\u001b[0;32m/opt/anaconda3/envs/ab312/lib/python3.12/site-packages/llama_index/vector_stores/faiss/base.py\u001b[0m in \u001b[0;36m?\u001b[0;34m(cls, persist_dir, fs)\u001b[0m\n\u001b[1;32m     93\u001b[0m         \u001b[0;34m)\u001b[0m\u001b[0;34m\u001b[0m\u001b[0;34m\u001b[0m\u001b[0m\n\u001b[1;32m     94\u001b[0m         \u001b[0;31m# only support local storage for now\u001b[0m\u001b[0;34m\u001b[0m\u001b[0;34m\u001b[0m\u001b[0m\n\u001b[1;32m     95\u001b[0m         \u001b[0;32mif\u001b[0m \u001b[0mfs\u001b[0m \u001b[0;32mand\u001b[0m \u001b[0;32mnot\u001b[0m \u001b[0misinstance\u001b[0m\u001b[0;34m(\u001b[0m\u001b[0mfs\u001b[0m\u001b[0;34m,\u001b[0m \u001b[0mLocalFileSystem\u001b[0m\u001b[0;34m)\u001b[0m\u001b[0;34m:\u001b[0m\u001b[0;34m\u001b[0m\u001b[0;34m\u001b[0m\u001b[0m\n\u001b[1;32m     96\u001b[0m             \u001b[0;32mraise\u001b[0m \u001b[0mNotImplementedError\u001b[0m\u001b[0;34m(\u001b[0m\u001b[0;34m\"FAISS only supports local storage for now.\"\u001b[0m\u001b[0;34m)\u001b[0m\u001b[0;34m\u001b[0m\u001b[0;34m\u001b[0m\u001b[0m\n\u001b[0;32m---> 97\u001b[0;31m         \u001b[0;32mreturn\u001b[0m \u001b[0mcls\u001b[0m\u001b[0;34m.\u001b[0m\u001b[0mfrom_persist_path\u001b[0m\u001b[0;34m(\u001b[0m\u001b[0mpersist_path\u001b[0m\u001b[0;34m=\u001b[0m\u001b[0mpersist_path\u001b[0m\u001b[0;34m,\u001b[0m \u001b[0mfs\u001b[0m\u001b[0;34m=\u001b[0m\u001b[0;32mNone\u001b[0m\u001b[0;34m)\u001b[0m\u001b[0;34m\u001b[0m\u001b[0;34m\u001b[0m\u001b[0m\n\u001b[0m",
      "\u001b[0;32m/opt/anaconda3/envs/ab312/lib/python3.12/site-packages/llama_index/vector_stores/faiss/base.py\u001b[0m in \u001b[0;36m?\u001b[0;34m(cls, persist_path, fs)\u001b[0m\n\u001b[1;32m    112\u001b[0m         \u001b[0;32mif\u001b[0m \u001b[0;32mnot\u001b[0m \u001b[0mos\u001b[0m\u001b[0;34m.\u001b[0m\u001b[0mpath\u001b[0m\u001b[0;34m.\u001b[0m\u001b[0mexists\u001b[0m\u001b[0;34m(\u001b[0m\u001b[0mpersist_path\u001b[0m\u001b[0;34m)\u001b[0m\u001b[0;34m:\u001b[0m\u001b[0;34m\u001b[0m\u001b[0;34m\u001b[0m\u001b[0m\n\u001b[1;32m    113\u001b[0m             \u001b[0;32mraise\u001b[0m \u001b[0mValueError\u001b[0m\u001b[0;34m(\u001b[0m\u001b[0;34mf\"\u001b[0m\u001b[0;34mNo existing \u001b[0m\u001b[0;34m{\u001b[0m\u001b[0m__name__\u001b[0m\u001b[0;34m}\u001b[0m\u001b[0;34m found at \u001b[0m\u001b[0;34m{\u001b[0m\u001b[0mpersist_path\u001b[0m\u001b[0;34m}\u001b[0m\u001b[0;34m.\u001b[0m\u001b[0;34m\"\u001b[0m\u001b[0;34m)\u001b[0m\u001b[0;34m\u001b[0m\u001b[0;34m\u001b[0m\u001b[0m\n\u001b[1;32m    114\u001b[0m \u001b[0;34m\u001b[0m\u001b[0m\n\u001b[1;32m    115\u001b[0m         \u001b[0mlogger\u001b[0m\u001b[0;34m.\u001b[0m\u001b[0minfo\u001b[0m\u001b[0;34m(\u001b[0m\u001b[0;34mf\"\u001b[0m\u001b[0;34mLoading \u001b[0m\u001b[0;34m{\u001b[0m\u001b[0m__name__\u001b[0m\u001b[0;34m}\u001b[0m\u001b[0;34m from \u001b[0m\u001b[0;34m{\u001b[0m\u001b[0mpersist_path\u001b[0m\u001b[0;34m}\u001b[0m\u001b[0;34m.\u001b[0m\u001b[0;34m\"\u001b[0m\u001b[0;34m)\u001b[0m\u001b[0;34m\u001b[0m\u001b[0;34m\u001b[0m\u001b[0m\n\u001b[0;32m--> 116\u001b[0;31m         \u001b[0mfaiss_index\u001b[0m \u001b[0;34m=\u001b[0m \u001b[0mfaiss\u001b[0m\u001b[0;34m.\u001b[0m\u001b[0mread_index\u001b[0m\u001b[0;34m(\u001b[0m\u001b[0mpersist_path\u001b[0m\u001b[0;34m)\u001b[0m\u001b[0;34m\u001b[0m\u001b[0;34m\u001b[0m\u001b[0m\n\u001b[0m\u001b[1;32m    117\u001b[0m         \u001b[0;32mreturn\u001b[0m \u001b[0mcls\u001b[0m\u001b[0;34m(\u001b[0m\u001b[0mfaiss_index\u001b[0m\u001b[0;34m=\u001b[0m\u001b[0mfaiss_index\u001b[0m\u001b[0;34m)\u001b[0m\u001b[0;34m\u001b[0m\u001b[0;34m\u001b[0m\u001b[0m\n",
      "\u001b[0;32m/opt/anaconda3/envs/ab312/lib/python3.12/site-packages/faiss/swigfaiss.py\u001b[0m in \u001b[0;36m?\u001b[0;34m(*args)\u001b[0m\n\u001b[1;32m  11640\u001b[0m \u001b[0;32mdef\u001b[0m \u001b[0mread_index\u001b[0m\u001b[0;34m(\u001b[0m\u001b[0;34m*\u001b[0m\u001b[0margs\u001b[0m\u001b[0;34m)\u001b[0m\u001b[0;34m:\u001b[0m\u001b[0;34m\u001b[0m\u001b[0;34m\u001b[0m\u001b[0m\n\u001b[0;32m> 11641\u001b[0;31m     \u001b[0;32mreturn\u001b[0m \u001b[0m_swigfaiss\u001b[0m\u001b[0;34m.\u001b[0m\u001b[0mread_index\u001b[0m\u001b[0;34m(\u001b[0m\u001b[0;34m*\u001b[0m\u001b[0margs\u001b[0m\u001b[0;34m)\u001b[0m\u001b[0;34m\u001b[0m\u001b[0;34m\u001b[0m\u001b[0m\n\u001b[0m",
      "\u001b[0;31mRuntimeError\u001b[0m: Error in Index *faiss::read_index(IOReader *, int) at /Users/runner/work/faiss-wheels/faiss-wheels/faiss/faiss/impl/index_read.cpp:1234: Index type 0x6d65227b (\"{\"em\") not recognized"
     ]
    }
   ],
   "source": [
    "from llama_index.vector_stores.faiss import FaissVectorStore\n",
    "from llama_index.core import StorageContext, load_index_from_storage\n",
    "\n",
    "vector_store = FaissVectorStore.from_persist_dir(\"./storage\")\n",
    "storage_context = StorageContext.from_defaults(vector_store=vector_store)\n",
    "index = load_index_from_storage(storage_context=storage_context)"
   ]
  }
 ],
 "metadata": {
  "kernelspec": {
   "display_name": "ab312",
   "language": "python",
   "name": "python3"
  },
  "language_info": {
   "codemirror_mode": {
    "name": "ipython",
    "version": 3
   },
   "file_extension": ".py",
   "mimetype": "text/x-python",
   "name": "python",
   "nbconvert_exporter": "python",
   "pygments_lexer": "ipython3",
   "version": "3.12.7"
  }
 },
 "nbformat": 4,
 "nbformat_minor": 2
}
