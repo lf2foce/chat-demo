{
 "cells": [
  {
   "cell_type": "code",
   "execution_count": 9,
   "id": "03267052",
   "metadata": {},
   "outputs": [],
   "source": [
    "# from llama_index.llms.openai import OpenAI\n",
    "from llama_index.llms.google_genai import GoogleGenAI\n",
    "from llama_index.indices.managed.llama_cloud import LlamaCloudIndex \n",
    "\n",
    "from llama_index.core import VectorStoreIndex, SimpleDirectoryReader, Settings \n",
    "from llama_index.core.tools import QueryEngineTool, ToolMetadata\n",
    "from llama_index.core.query_engine import SubQuestionQueryEngine\n",
    "from llama_index.core.callbacks import CallbackManager, LlamaDebugHandler\n",
    "import os\n",
    "import nest_asyncio\n",
    "\n",
    "from dotenv import load_dotenv\n",
    "load_dotenv()\n",
    "nest_asyncio.apply()\n",
    "\n",
    "# llm = OpenAI(model=\"gpt-4o-mini\")\n",
    "llm = GoogleGenAI(model=\"gemini-2.0-flash\")"
   ]
  },
  {
   "cell_type": "code",
   "execution_count": null,
   "id": "96e3810b",
   "metadata": {},
   "outputs": [],
   "source": []
  },
  {
   "cell_type": "code",
   "execution_count": 10,
   "id": "6ebe5972",
   "metadata": {},
   "outputs": [],
   "source": [
    "# Using the LlamaDebugHandler to print the trace of the sub questions\n",
    "# captured by the SUB_QUESTION callback event type\n",
    "llama_debug = LlamaDebugHandler(print_trace_on_end=True)\n",
    "callback_manager = CallbackManager([llama_debug])\n",
    "\n",
    "Settings.callback_manager = callback_manager"
   ]
  },
  {
   "cell_type": "code",
   "execution_count": 11,
   "id": "79cd72af",
   "metadata": {},
   "outputs": [],
   "source": [
    "# Index global - chỉ khởi tạo 1 lần\n",
    "index_dsdaihoc = LlamaCloudIndex(\n",
    "        name=\"dsdaihoc\",\n",
    "        project_name=\"Default\",\n",
    "        organization_id=\"1bcf5fb2-bd7d-4c76-b6d5-bb793486e1b3\",\n",
    "        api_key=os.getenv(\"LLAMA_CLOUD_API_KEY\"),\n",
    "        )\n",
    "\n",
    "\n",
    "# 2️⃣ Setup tools\n",
    "qe = index_dsdaihoc.as_query_engine(similarity_top_k=5)"
   ]
  },
  {
   "cell_type": "code",
   "execution_count": 12,
   "id": "1109f344",
   "metadata": {},
   "outputs": [],
   "source": [
    "# setup base query engine as tool\n",
    "query_engine_tools = [\n",
    "    QueryEngineTool(\n",
    "        query_engine=qe,\n",
    "        metadata=ToolMetadata(\n",
    "            name=\"dsdaihoc\",\n",
    "            description=\"Danh sách các trường đại học ở việt nam\",\n",
    "        ),\n",
    "    ),\n",
    "]\n",
    "\n",
    "query_engine = SubQuestionQueryEngine.from_defaults(\n",
    "    query_engine_tools=query_engine_tools,\n",
    "    use_async=True,\n",
    ")"
   ]
  },
  {
   "cell_type": "code",
   "execution_count": null,
   "id": "c2c38dd5",
   "metadata": {},
   "outputs": [
    {
     "name": "stdout",
     "output_type": "stream",
     "text": [
      "Generated 1 sub questions.\n",
      "\u001b[1;3;38;2;237;90;200m[dsdaihoc] Q: Danh sách các trường đại học ở Hà Nội\n",
      "\u001b[0m**********\n",
      "Trace: query\n",
      "    |_CBEventType.QUERY -> 8.580246 seconds\n",
      "      |_CBEventType.SYNTHESIZE -> 2.250287 seconds\n",
      "        |_CBEventType.TEMPLATING -> 1.1e-05 seconds\n",
      "        |_CBEventType.LLM -> 2.231829 seconds\n",
      "**********\n",
      "\u001b[1;3;38;2;237;90;200m[dsdaihoc] A: Đại học Quốc gia Hà Nội (VNU), Trường Đại học Sư phạm Hà Nội 2 (HPU2), Trường Đại học Mở Hà Nội (HOU), Học Viện Chính Sách và Phát Triển (APD)\n",
      "\u001b[0m**********\n",
      "Trace: query\n",
      "    |_CBEventType.QUERY -> 8.580246 seconds\n",
      "      |_CBEventType.SYNTHESIZE -> 2.250287 seconds\n",
      "        |_CBEventType.TEMPLATING -> 1.1e-05 seconds\n",
      "        |_CBEventType.LLM -> 2.231829 seconds\n",
      "**********\n"
     ]
    },
    {
     "ename": "TypeError",
     "evalue": "object Response can't be used in 'await' expression",
     "output_type": "error",
     "traceback": [
      "\u001b[0;31m---------------------------------------------------------------------------\u001b[0m",
      "\u001b[0;31mTypeError\u001b[0m                                 Traceback (most recent call last)",
      "Cell \u001b[0;32mIn[17], line 1\u001b[0m\n\u001b[0;32m----> 1\u001b[0m response \u001b[38;5;241m=\u001b[39m \u001b[38;5;28;01mawait\u001b[39;00m query_engine\u001b[38;5;241m.\u001b[39mquery(\n\u001b[1;32m      2\u001b[0m     \u001b[38;5;124m\"\u001b[39m\u001b[38;5;124mHọc trường kinh tế nào ở Hà Nội, học phí dưới 2 triệu/tháng, ngành tài chính ngân hàng có triển vọng khi ra trường \u001b[39m\u001b[38;5;124m\"\u001b[39m,\n\u001b[1;32m      3\u001b[0m )\n",
      "\u001b[0;31mTypeError\u001b[0m: object Response can't be used in 'await' expression"
     ]
    }
   ],
   "source": [
    "\n",
    "response = query_engine.query(\n",
    "    \"Học trường kinh tế nào ở Hà Nội, học phí dưới 2 triệu/tháng, ngành tài chính ngân hàng có triển vọng khi ra trường \",\n",
    ")"
   ]
  },
  {
   "cell_type": "code",
   "execution_count": 14,
   "id": "d4ea48bd",
   "metadata": {},
   "outputs": [
    {
     "name": "stdout",
     "output_type": "stream",
     "text": [
      "Trường Đại học Mở Hà Nội (HOU) là một trong những trường có chương trình kinh tế với học phí dưới 2 triệu/tháng ở Hà Nội. Ngành tài chính ngân hàng tại trường này có triển vọng khi ra trường.\n"
     ]
    }
   ],
   "source": [
    "\n",
    "print(response)"
   ]
  },
  {
   "cell_type": "code",
   "execution_count": 15,
   "id": "99d72dca",
   "metadata": {},
   "outputs": [
    {
     "name": "stdout",
     "output_type": "stream",
     "text": [
      "Sub Question 0: Danh sách các trường đại học ở Hà Nội\n",
      "Answer: Đại học Quốc gia Hà Nội (VNU), Trường Đại học Sư phạm Hà Nội 2 (HPU2), Trường Đại học Mở Hà Nội (HOU), Học Viện Chính Sách và Phát Triển (APD)\n",
      "====================================\n"
     ]
    }
   ],
   "source": [
    "# iterate through sub_question items captured in SUB_QUESTION event\n",
    "from llama_index.core.callbacks import CBEventType, EventPayload\n",
    "\n",
    "for i, (start_event, end_event) in enumerate(\n",
    "    llama_debug.get_event_pairs(CBEventType.SUB_QUESTION)\n",
    "):\n",
    "    qa_pair = end_event.payload[EventPayload.SUB_QUESTION]\n",
    "    print(\"Sub Question \" + str(i) + \": \" + qa_pair.sub_q.sub_question.strip())\n",
    "    print(\"Answer: \" + qa_pair.answer.strip())\n",
    "    print(\"====================================\")"
   ]
  },
  {
   "cell_type": "code",
   "execution_count": null,
   "id": "594244f1",
   "metadata": {},
   "outputs": [
    {
     "name": "stdout",
     "output_type": "stream",
     "text": [
      "**********\n",
      "Trace: query\n",
      "    |_CBEventType.RETRIEVE -> 1.10677 seconds\n",
      "**********\n"
     ]
    },
    {
     "ename": "AttributeError",
     "evalue": "'LlamaCloudIndex' object has no attribute 'query'",
     "output_type": "error",
     "traceback": [
      "\u001b[0;31m---------------------------------------------------------------------------\u001b[0m",
      "\u001b[0;31mAttributeError\u001b[0m                            Traceback (most recent call last)",
      "Cell \u001b[0;32mIn[20], line 39\u001b[0m\n\u001b[1;32m     37\u001b[0m \u001b[38;5;28;01mif\u001b[39;00m \u001b[38;5;18m__name__\u001b[39m \u001b[38;5;241m==\u001b[39m \u001b[38;5;124m\"\u001b[39m\u001b[38;5;124m__main__\u001b[39m\u001b[38;5;124m\"\u001b[39m:\n\u001b[1;32m     38\u001b[0m     q \u001b[38;5;241m=\u001b[39m \u001b[38;5;28minput\u001b[39m(\u001b[38;5;124m\"\u001b[39m\u001b[38;5;124mBạn hỏi: \u001b[39m\u001b[38;5;124m\"\u001b[39m)\u001b[38;5;241m.\u001b[39mstrip()\n\u001b[0;32m---> 39\u001b[0m     ans \u001b[38;5;241m=\u001b[39m \u001b[43mask_university_ai\u001b[49m\u001b[43m(\u001b[49m\u001b[43mq\u001b[49m\u001b[43m)\u001b[49m\n\u001b[1;32m     40\u001b[0m     \u001b[38;5;28mprint\u001b[39m(\u001b[38;5;124m\"\u001b[39m\u001b[38;5;130;01m\\n\u001b[39;00m\u001b[38;5;124m✅ AI trả lời:\u001b[39m\u001b[38;5;124m\"\u001b[39m, ans)\n",
      "Cell \u001b[0;32mIn[20], line 34\u001b[0m, in \u001b[0;36mask_university_ai\u001b[0;34m(question)\u001b[0m\n\u001b[1;32m     25\u001b[0m     prompt \u001b[38;5;241m=\u001b[39m \u001b[38;5;124mf\u001b[39m\u001b[38;5;124m\"\"\"\u001b[39m\u001b[38;5;124mBạn là trợ lý AI chuyên nghiệp về giáo dục và các trường đại học tại Việt Nam.\u001b[39m\n\u001b[1;32m     26\u001b[0m \n\u001b[1;32m     27\u001b[0m \u001b[38;5;124mCONTEXT:\u001b[39m\n\u001b[0;32m   (...)\u001b[0m\n\u001b[1;32m     30\u001b[0m \u001b[38;5;124mHỏi: \u001b[39m\u001b[38;5;132;01m{\u001b[39;00mquestion\u001b[38;5;132;01m}\u001b[39;00m\n\u001b[1;32m     31\u001b[0m \u001b[38;5;124mTrả lời ngắn gọn, rõ ràng:\u001b[39m\u001b[38;5;124m\"\"\"\u001b[39m\n\u001b[1;32m     33\u001b[0m     \u001b[38;5;66;03m# Thực hiện truy vấn qua LlamaCloud, lấy kết quả\u001b[39;00m\n\u001b[0;32m---> 34\u001b[0m     response \u001b[38;5;241m=\u001b[39m \u001b[43mindex\u001b[49m\u001b[38;5;241;43m.\u001b[39;49m\u001b[43mquery\u001b[49m(prompt)\n\u001b[1;32m     35\u001b[0m     \u001b[38;5;28;01mreturn\u001b[39;00m response\u001b[38;5;241m.\u001b[39mresponse\n",
      "\u001b[0;31mAttributeError\u001b[0m: 'LlamaCloudIndex' object has no attribute 'query'"
     ]
    }
   ],
   "source": [
    "import os\n",
    "from llama_index.indices.managed.llama_cloud import LlamaCloudIndex\n",
    "\n",
    "# 1. Thiết lập API key\n",
    "os.environ[\"LLAMA_CLOUD_API_KEY\"] = os.getenv(\"LLAMA_CLOUD_API_KEY\", \"\")\n",
    "\n",
    "def ask(question: str) -> str:\n",
    "    # 2. Kết nối đến chỉ mục LlamaCloud đã tạo\n",
    "    index = LlamaCloudIndex(\n",
    "        name=\"dsdaihoc\",\n",
    "        project_name=\"Default\",\n",
    "        organization_id=\"1bcf5fb2-bd7d-4c76-b6d5-bb793486e1b3\",\n",
    "    )\n",
    "    \n",
    "    # 3. Tạo QueryEngine: bao gồm retrieval + generation\n",
    "    query_engine = index.as_query_engine(similarity_top_k=3)\n",
    "    \n",
    "    # 4. Gửi câu hỏi, nhận kết quả\n",
    "    response = query_engine.query(question)\n",
    "    return response.response  # hoặc .text nếu SDK dùng vậy\n",
    "\n",
    "if __name__ == \"__main__\":\n",
    "    q = input(\"Bạn hỏi: \").strip()\n",
    "    ans = ask(q)\n",
    "    print(\"\\n👉 AI trả lời:\", ans)\n"
   ]
  }
 ],
 "metadata": {
  "kernelspec": {
   "display_name": "ab312",
   "language": "python",
   "name": "python3"
  },
  "language_info": {
   "codemirror_mode": {
    "name": "ipython",
    "version": 3
   },
   "file_extension": ".py",
   "mimetype": "text/x-python",
   "name": "python",
   "nbconvert_exporter": "python",
   "pygments_lexer": "ipython3",
   "version": "3.12.7"
  }
 },
 "nbformat": 4,
 "nbformat_minor": 5
}
